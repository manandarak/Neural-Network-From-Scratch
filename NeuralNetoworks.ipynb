{
 "cells": [
  {
   "cell_type": "code",
   "execution_count": 1,
   "id": "2b3db4da-4b8c-40e4-a2c9-830f56d69671",
   "metadata": {},
   "outputs": [
    {
     "data": {
      "text/plain": [
       "2.3"
      ]
     },
     "execution_count": 1,
     "metadata": {},
     "output_type": "execute_result"
    }
   ],
   "source": [
    "inputs =[1,2,3]\n",
    "weights = [0.2,0.8,-0.5]\n",
    "bias = 2\n",
    "\n",
    "output =(inputs[0]*weights[0]+\n",
    "         inputs[1]*weights[1]+\n",
    "         inputs[2]*weights[2]+ bias)\n",
    "output"
   ]
  },
  {
   "cell_type": "code",
   "execution_count": 2,
   "id": "e9990438-7291-4517-b1d7-1e254c2f13c3",
   "metadata": {},
   "outputs": [
    {
     "data": {
      "text/plain": [
       "4.8"
      ]
     },
     "execution_count": 2,
     "metadata": {},
     "output_type": "execute_result"
    }
   ],
   "source": [
    "inputs =[1,2,3,2.5]\n",
    "weights = [0.2,0.8,-0.5,1.0]\n",
    "bias = 2.0\n",
    "\n",
    "output =(inputs[0]*weights[0]+\n",
    "         inputs[1]*weights[1]+\n",
    "         inputs[2]*weights[2]+ \n",
    "         inputs[3]*weights[3]+bias)\n",
    "output"
   ]
  },
  {
   "cell_type": "code",
   "execution_count": 3,
   "id": "2effe97c-6c78-4c7a-a0c9-624b6eaa732d",
   "metadata": {},
   "outputs": [
    {
     "name": "stdout",
     "output_type": "stream",
     "text": [
      "[4.8, 1.21, 2.385]\n"
     ]
    }
   ],
   "source": [
    "inputs = [1,2,3,2.5]\n",
    "weights1 = [0.2,0.8,-0.5,1]\n",
    "weights2 = [0.5,-0.91,0.26,-0.5]\n",
    "weights3 = [-0.26,-0.27,0.17,0.87]\n",
    "\n",
    "bias1 = 2\n",
    "bias2 = 3\n",
    "bias3 = 0.5\n",
    "\n",
    "outputs = [\n",
    "    #neuron1\n",
    "    inputs[0]*weights1[0]+\n",
    "    inputs[1]*weights1[1]+\n",
    "    inputs[2]*weights1[2]+\n",
    "    inputs[3]*weights1[3]+bias1,\n",
    "\n",
    "    #neuron2\n",
    "    inputs[0]*weights2[0]+\n",
    "    inputs[1]*weights2[1]+\n",
    "    inputs[2]*weights2[2]+\n",
    "    inputs[3]*weights2[3]+bias2,\n",
    "\n",
    "    #neuron3\n",
    "    inputs[0]*weights3[0]+\n",
    "    inputs[1]*weights3[1]+\n",
    "    inputs[2]*weights3[2]+\n",
    "    inputs[3]*weights3[3]+bias3]\n",
    "\n",
    "print(outputs)"
   ]
  },
  {
   "cell_type": "markdown",
   "id": "013c7dfd-1cd0-40b2-a08d-25343760d53a",
   "metadata": {},
   "source": [
    "## Creating the simple above nn using loops"
   ]
  },
  {
   "cell_type": "code",
   "execution_count": 4,
   "id": "6d0030db-2511-4f5c-8fa0-ff4730600b83",
   "metadata": {},
   "outputs": [
    {
     "name": "stdout",
     "output_type": "stream",
     "text": [
      "[]\n",
      "neruonoutput 0\n",
      "inputs: [1, 2, 3, 2.5]\n",
      "neuronweights [0.2, 0.8, -0.5, 1]\n",
      "neruonoutput 0.2\n",
      "inputs: [1, 2, 3, 2.5]\n",
      "neuronweights [0.2, 0.8, -0.5, 1]\n",
      "neruonoutput 1.8\n",
      "inputs: [1, 2, 3, 2.5]\n",
      "neuronweights [0.2, 0.8, -0.5, 1]\n",
      "neruonoutput 0.30000000000000004\n",
      "inputs: [1, 2, 3, 2.5]\n",
      "neuronweights [0.2, 0.8, -0.5, 1]\n",
      "neruonoutput 2.8\n",
      "neruonoutput 0\n",
      "inputs: [1, 2, 3, 2.5]\n",
      "neuronweights [0.5, -0.91, 0.26, -0.5]\n",
      "neruonoutput 0.5\n",
      "inputs: [1, 2, 3, 2.5]\n",
      "neuronweights [0.5, -0.91, 0.26, -0.5]\n",
      "neruonoutput -1.32\n",
      "inputs: [1, 2, 3, 2.5]\n",
      "neuronweights [0.5, -0.91, 0.26, -0.5]\n",
      "neruonoutput -0.54\n",
      "inputs: [1, 2, 3, 2.5]\n",
      "neuronweights [0.5, -0.91, 0.26, -0.5]\n",
      "neruonoutput -1.79\n",
      "neruonoutput 0\n",
      "inputs: [1, 2, 3, 2.5]\n",
      "neuronweights [-0.26, -0.27, 0.17, 0.87]\n",
      "neruonoutput -0.26\n",
      "inputs: [1, 2, 3, 2.5]\n",
      "neuronweights [-0.26, -0.27, 0.17, 0.87]\n",
      "neruonoutput -0.8\n",
      "inputs: [1, 2, 3, 2.5]\n",
      "neuronweights [-0.26, -0.27, 0.17, 0.87]\n",
      "neruonoutput -0.29000000000000004\n",
      "inputs: [1, 2, 3, 2.5]\n",
      "neuronweights [-0.26, -0.27, 0.17, 0.87]\n",
      "neruonoutput 1.8849999999999998\n",
      "[4.8, 1.21, 2.385]\n"
     ]
    }
   ],
   "source": [
    "inputs = [1,2,3,2.5]\n",
    "weights = [[0.2,0.8,-0.5,1],\n",
    "           [0.5,-0.91,0.26,-0.5],\n",
    "           [-0.26,-0.27,0.17,0.87]]\n",
    "biases = [2,3,0.5]\n",
    "\n",
    "\n",
    "#output layer for each neuron\n",
    "layers_outputs = []\n",
    "print(layers_outputs)\n",
    "#for each neuron\n",
    "\n",
    "for neuron_weights,neuron_bias in zip(weights,biases):\n",
    "    #zeroed output of the given neruon\n",
    "    neuron_output = 0\n",
    "    print(\"neruonoutput\",neuron_output)\n",
    "    #for each input and weight of the neuron\n",
    "    for n_input,weight in zip(inputs,neuron_weights):\n",
    "         # Multiply this input by associated weight \n",
    "        # and add to the neuron’s output variable \n",
    "        print(\"inputs:\",inputs)\n",
    "        print(\"neuronweights\",neuron_weights)\n",
    "        neuron_output += n_input*weight\n",
    "        print(\"neruonoutput\",neuron_output)\n",
    "        # Add bias \n",
    "    neuron_output += neuron_bias \n",
    "    # Put neuron’s result to the layer’s output list \n",
    "    layers_outputs.append(neuron_output) \n",
    " \n",
    "print(layers_outputs)           "
   ]
  },
  {
   "cell_type": "markdown",
   "id": "c63421ff-0d71-40bf-ac66-6031c52af80d",
   "metadata": {},
   "source": [
    "## Dot Prodcuts vectors"
   ]
  },
  {
   "cell_type": "code",
   "execution_count": 5,
   "id": "f307d23a-effc-4609-bf14-e90a4160d28f",
   "metadata": {},
   "outputs": [
    {
     "name": "stdout",
     "output_type": "stream",
     "text": [
      "20\n"
     ]
    }
   ],
   "source": [
    "a =[1,2,3]\n",
    "b =[2,3,4]\n",
    "\n",
    "dot_product = a[0]*b[0] + a[1]*b[1] + a[2]*b[2]\n",
    "print(dot_product)"
   ]
  },
  {
   "cell_type": "code",
   "execution_count": 6,
   "id": "fdee4204-0ad0-4b0f-93c6-7a4effdffd35",
   "metadata": {},
   "outputs": [
    {
     "name": "stdout",
     "output_type": "stream",
     "text": [
      "4.8\n"
     ]
    }
   ],
   "source": [
    "import numpy as np\n",
    "inputs = [1.0,2.0,3.0,2.5]\n",
    "weights = [0.2,0.8,-0.5,1.0]\n",
    "bias = 2.0\n",
    "\n",
    "outputs =  np.dot(inputs,weights)+bias\n",
    "print(outputs)"
   ]
  },
  {
   "cell_type": "code",
   "execution_count": 7,
   "id": "e37fa069-dd66-4bf6-aee2-6e0d475f48d1",
   "metadata": {},
   "outputs": [
    {
     "name": "stdout",
     "output_type": "stream",
     "text": [
      "[4.8   1.21  2.385]\n"
     ]
    }
   ],
   "source": [
    "import numpy as np\n",
    "inputs = [1.0, 2.0, 3.0, 2.5] \n",
    "weights = [[0.2, 0.8, -0.5, 1], \n",
    "           [0.5, -0.91, 0.26, -0.5], \n",
    "           [-0.26, -0.27, 0.17, 0.87]] \n",
    "biases = [2.0, 3.0, 0.5]\n",
    "layers_outputs = np.dot(weights,inputs)+biases\n",
    "print(layers_outputs)"
   ]
  },
  {
   "cell_type": "markdown",
   "id": "d568163a-aea2-4e50-b846-72512607f8a1",
   "metadata": {},
   "source": [
    "## Transposition"
   ]
  },
  {
   "cell_type": "code",
   "execution_count": 8,
   "id": "095ce107-7657-4481-afec-74377fac8ed5",
   "metadata": {},
   "outputs": [
    {
     "name": "stdout",
     "output_type": "stream",
     "text": [
      "[[2]\n",
      " [3]\n",
      " [4]]\n"
     ]
    },
    {
     "data": {
      "text/plain": [
       "array([[20]])"
      ]
     },
     "execution_count": 8,
     "metadata": {},
     "output_type": "execute_result"
    }
   ],
   "source": [
    "import numpy as np\n",
    "a = np.array([[1,2,3]])\n",
    "b = np.array([[2,3,4]]).T  #rows become coloumns and coloumns become rows it flips matrix over its diagonal\n",
    "print(b)\n",
    "result = np.dot(a,b)\n",
    "result"
   ]
  },
  {
   "cell_type": "code",
   "execution_count": 9,
   "id": "688b34af-7acb-49b2-8aa7-496de7616c28",
   "metadata": {},
   "outputs": [
    {
     "data": {
      "text/plain": [
       "array([[ 4.8  ,  1.21 ,  4.385],\n",
       "       [ 8.9  , -1.81 ,  2.2  ],\n",
       "       [ 1.41 ,  1.051,  2.026]])"
      ]
     },
     "execution_count": 9,
     "metadata": {},
     "output_type": "execute_result"
    }
   ],
   "source": [
    "inputs = [[1.0,2.0,3.0,2.5],\n",
    "          [2.0,5.0,-1.0,2.0],\n",
    "          [-1.5,2.7,3.3,-0.8]]\n",
    "weights = [[0.2,0.8,-0.5,1.0],\n",
    "           [0.5,-0.91,0.26,-0.5],\n",
    "           [-0.26,-0.27,0.17,0.87]]\n",
    "biases = [2.0,3.0,2.5]\n",
    "outputs = np.dot(inputs,np.array(weights).T)+biases\n",
    "outputs"
   ]
  },
  {
   "cell_type": "code",
   "execution_count": 10,
   "id": "ad90e64d-6b5b-48d7-8f75-a20cbb8ae8b1",
   "metadata": {},
   "outputs": [
    {
     "data": {
      "text/plain": [
       "array([[ 2.8  , -1.79 ,  1.885],\n",
       "       [ 6.9  , -4.81 , -0.3  ],\n",
       "       [-0.59 , -1.949, -0.474]])"
      ]
     },
     "execution_count": 10,
     "metadata": {},
     "output_type": "execute_result"
    }
   ],
   "source": [
    "import numpy as np\n",
    "\n",
    "A = np.array([[1, 2, 3, 2.5],\n",
    "              [2, 5, -1, 2],\n",
    "              [-1.5, 2.7, 3.3, -0.8]])\n",
    "\n",
    "B = np.array([[0.2, 0.5, -0.26],\n",
    "              [0.8, -0.91, -0.27],\n",
    "              [-0.5, 0.26, 0.17],\n",
    "              [1.0, -0.5, 0.87]])\n",
    "\n",
    "C = np.dot(A, B)\n",
    "C"
   ]
  },
  {
   "cell_type": "code",
   "execution_count": 11,
   "id": "e61f555d-052d-4240-af24-6c461cf81191",
   "metadata": {},
   "outputs": [
    {
     "data": {
      "text/plain": [
       "array([[ 4.8  ,  1.21 ,  2.385],\n",
       "       [ 8.9  , -1.81 ,  0.2  ],\n",
       "       [ 1.41 ,  1.051,  0.026]])"
      ]
     },
     "execution_count": 11,
     "metadata": {},
     "output_type": "execute_result"
    }
   ],
   "source": [
    "import numpy as np\n",
    "inputs = [[1,2,3,2.5],\n",
    "          [2,5,-1,2],\n",
    "          [-1.5,2.7,3.3,-0.8]]\n",
    "weights  = [[0.2,0.8,-0.5,1.0],\n",
    "            [0.5,-0.91,0.26,-0.5],\n",
    "            [-0.26,-0.27,0.17,0.87]]\n",
    "biases = [2,3,0.5]\n",
    "\n",
    "result = np.dot(inputs,np.array(weights).T)+biases\n",
    "result"
   ]
  },
  {
   "cell_type": "code",
   "execution_count": 12,
   "id": "5660b1ed-ccb1-4c6b-a14f-02dd89faee64",
   "metadata": {},
   "outputs": [
    {
     "name": "stdout",
     "output_type": "stream",
     "text": [
      "[[ 0.5031  -1.04185 -2.03875]\n",
      " [ 0.2434  -2.7332  -5.7633 ]\n",
      " [-0.99314  1.41254 -0.35655]]\n"
     ]
    }
   ],
   "source": [
    "import numpy as np\n",
    "inputs = [[1, 2, 3, 2.5], [2., 5., -1., 2], [-1.5, 2.7, 3.3, -0.8]] \n",
    "\n",
    "weights = [[0.2, 0.8, -0.5, 1], \n",
    "           [0.5, -0.91, 0.26, -0.5], \n",
    "           [-0.26, -0.27, 0.17, 0.87]] \n",
    "biases = [2, 3, 0.5] \n",
    "\n",
    "weights2 = [[0.1, -0.14, 0.5], \n",
    "            [-0.5, 0.12, -0.33], \n",
    "            [-0.44, 0.73, -0.13]] \n",
    "\n",
    "biases2 = [-1, 2, -0.5] \n",
    "\n",
    "layer1_outputs = np.dot(inputs,np.array(weights).T)+biases\n",
    "layers2_outputs = np.dot(layer1_outputs,np.array(weights2).T)+biases2\n",
    "\n",
    "print(layers2_outputs)"
   ]
  },
  {
   "cell_type": "code",
   "execution_count": 13,
   "id": "231d1d5d-6059-4edc-92e3-6509d10e7767",
   "metadata": {},
   "outputs": [
    {
     "data": {
      "image/png": "[encoded data removed]",
      "text/plain": [
       "<Figure size 640x480 with 1 Axes>"
      ]
     },
     "metadata": {},
     "output_type": "display_data"
    },
    {
     "data": {
      "image/png": "[encoded data removed]",
      "text/plain": [
       "<Figure size 640x480 with 1 Axes>"
      ]
     },
     "metadata": {},
     "output_type": "display_data"
    }
   ],
   "source": [
    "from  nnfs.datasets import spiral_data\n",
    "import numpy as np\n",
    "import nnfs\n",
    "nnfs.init()\n",
    "import matplotlib.pyplot as plt \n",
    "X, y = spiral_data(samples=100, classes=3)  # using spiral_data we choose no of class and no of data point we want\n",
    "plt.scatter(X[:,0], X[:,1]) \n",
    "plt.show()\n",
    "plt.scatter(X[:, 0], X[:, 1], c=y, cmap='brg') \n",
    "plt.show() "
   ]
  },
  {
   "cell_type": "code",
   "execution_count": 14,
   "id": "2477dedd-ff82-4b05-9a7c-8efde7f736ac",
   "metadata": {},
   "outputs": [
    {
     "name": "stdout",
     "output_type": "stream",
     "text": [
      "[[ 1.7640524   0.4001572   0.978738    2.2408931   1.867558  ]\n",
      " [-0.9772779   0.95008844 -0.1513572  -0.10321885  0.41059852]]\n"
     ]
    }
   ],
   "source": [
    "import numpy as np\n",
    "import nnfs\n",
    "nnfs.init()\n",
    "print(np.random.randn(2,5))"
   ]
  },
  {
   "cell_type": "code",
   "execution_count": 15,
   "id": "06bc837e-096e-46fe-8943-6189eb67d6f9",
   "metadata": {},
   "outputs": [
    {
     "name": "stdout",
     "output_type": "stream",
     "text": [
      "[[ 0.17640524  0.04001572  0.0978738   0.22408931]\n",
      " [ 0.1867558  -0.09772779  0.09500884 -0.01513572]]\n",
      "[[0. 0. 0. 0.]]\n"
     ]
    }
   ],
   "source": [
    "import numpy as np\n",
    "import nnfs\n",
    "nnfs.init()\n",
    "n_inputs = 2\n",
    "n_neurons = 4\n",
    "weights  = 0.1*(np.random.randn(n_inputs,n_neurons))\n",
    "biases = np.zeros((1,n_neurons))\n",
    "\n",
    "print(weights)\n",
    "print(biases)"
   ]
  },
  {
   "cell_type": "code",
   "execution_count": 16,
   "id": "d11e847d-7945-4dbb-a92b-0ab38cdb866c",
   "metadata": {},
   "outputs": [],
   "source": [
    "# def forward(self,inputs):\n",
    "#     self.output =  np.dot(inputs,self.weights) + self.biases"
   ]
  },
  {
   "cell_type": "code",
   "execution_count": 17,
   "id": "bba781b6-cdc7-42df-9a67-f160a62ed2ec",
   "metadata": {},
   "outputs": [
    {
     "name": "stdout",
     "output_type": "stream",
     "text": [
      "[[ 0.00115148 -0.00379148 -0.01742356]\n",
      " [-0.01303243  0.0060512   0.00895556]]\n"
     ]
    }
   ],
   "source": [
    "import numpy as np\n",
    "import nnfs\n",
    "from nnfs.datasets import spiral_data\n",
    "class Layer_Dense:\n",
    "    def __init__(self,n_inputs,n_neurons):\n",
    "        self.weights = 0.01 * np.random.randn(n_inputs,n_neurons)\n",
    "        self.biases = np.zeros((1,n_neurons))\n",
    "        print(self.weights)\n",
    "    def forward(self,inputs):\n",
    "        self.output = np.dot(inputs,self.weights)+self.biases\n",
    "\n",
    "x,y = spiral_data(samples=100,classes=3)\n",
    "X, y = spiral_data(samples =100, classes=3) \n",
    "dense1 = Layer_Dense(2, 3)  #2 input features and 3 neurons\n",
    "dense1.forward(X) \n",
    "# print(dense1.output[:5])"
   ]
  },
  {
   "cell_type": "code",
   "execution_count": 18,
   "id": "ac877613-38e7-415f-88c2-7ac48857fd97",
   "metadata": {},
   "outputs": [
    {
     "name": "stdout",
     "output_type": "stream",
     "text": [
      "[0, 2, 0, 3.3, 0, 1.1, 2.2, 0]\n"
     ]
    }
   ],
   "source": [
    "inputs = [0,2,-1,3.3,-2.7,1.1,2.2,-100]\n",
    "output = []\n",
    "for i in inputs:\n",
    "    if i > 0:\n",
    "        output.append(i)\n",
    "    else :\n",
    "        output.append(0)\n",
    "print(output)"
   ]
  },
  {
   "cell_type": "code",
   "execution_count": 19,
   "id": "55c24eb6-7b1b-4216-af5d-4541c4b8fbf2",
   "metadata": {},
   "outputs": [
    {
     "name": "stdout",
     "output_type": "stream",
     "text": [
      "[0.  2.  0.  3.3 0.  1.1 2.2 0. ]\n"
     ]
    }
   ],
   "source": [
    "import numpy as np\n",
    "inputs = [0,2,-1,3.3,-2.7,1.1,2.2,-100]\n",
    "output = np.maximum(0, inputs)\n",
    "print(output)"
   ]
  },
  {
   "cell_type": "code",
   "execution_count": 20,
   "id": "927cd9ac-3031-4b24-9ad9-65305a5088d0",
   "metadata": {},
   "outputs": [
    {
     "name": "stdout",
     "output_type": "stream",
     "text": [
      "[[-0.01226622  0.00967446 -0.00055353]\n",
      " [-0.00263937  0.00352817 -0.00152774]]\n",
      "[[0.0000000e+00 0.0000000e+00 0.0000000e+00]\n",
      " [0.0000000e+00 6.3205596e-05 0.0000000e+00]\n",
      " [0.0000000e+00 1.2814740e-04 0.0000000e+00]\n",
      " [0.0000000e+00 2.2763174e-04 0.0000000e+00]\n",
      " [0.0000000e+00 4.0978254e-04 0.0000000e+00]]\n"
     ]
    }
   ],
   "source": [
    "import numpy as np\n",
    "import nnfs\n",
    "from nnfs.datasets import spiral_data\n",
    "class Layer_Dense:\n",
    "    def __init__(self,n_inputs,n_neurons):\n",
    "        self.weights = 0.01 * np.random.randn(n_inputs,n_neurons)\n",
    "        self.biases = np.zeros((1,n_neurons))\n",
    "        print(self.weights)\n",
    "    def forward(self,inputs):\n",
    "        self.output = np.dot(inputs,self.weights)+self.biases\n",
    "\n",
    "class Activation_ReLU:  \n",
    "    def forward(self, inputs): \n",
    "        self.output = np.maximum(0, inputs) \n",
    "\n",
    "X, y = spiral_data(samples=100, classes=3) \n",
    "dense1 = Layer_Dense(2, 3) \n",
    "activation1 = Activation_ReLU()  \n",
    "dense1.forward(X) \n",
    "activation1.forward(dense1.output)\n",
    "print(activation1.output[:5])"
   ]
  },
  {
   "cell_type": "code",
   "execution_count": 21,
   "id": "4dcf712b-178f-4a6b-8bb1-d027a028b2be",
   "metadata": {},
   "outputs": [
    {
     "name": "stdout",
     "output_type": "stream",
     "text": [
      "Weights:\n",
      "[[-0.01298687  0.01276075  0.01325014]\n",
      " [ 0.00205333  0.00045134  0.02339625]]\n",
      "ReLU Activation Output:\n",
      "[[0.         0.01366343 0.06004263]\n",
      " [0.         0.02687553 0.09668902]\n",
      " [0.00888022 0.         0.        ]]\n"
     ]
    }
   ],
   "source": [
    "import numpy as np\n",
    "X_custom = np.array([[1.0, 2.0],\n",
    "                     [2.0, 3.0],\n",
    "                     [-1.0, -2.0]])\n",
    "\n",
    "class Layer_Dense:\n",
    "    def __init__(self, n_inputs, n_neurons):\n",
    "        self.weights = 0.01 * np.random.randn(n_inputs, n_neurons)\n",
    "        self.biases = np.zeros((1, n_neurons))\n",
    "        print(\"Weights:\")\n",
    "        print(self.weights)\n",
    "\n",
    "    def forward(self, inputs):\n",
    "        self.output = np.dot(inputs, self.weights) + self.biases\n",
    "        \n",
    "class Activation_ReLU:\n",
    "    def forward(self, inputs):\n",
    "        self.output = np.maximum(0, inputs)\n",
    "\n",
    "# # Creating instances of Layer_Dense and Activation_ReLU\n",
    "dense1 = Layer_Dense(2, 3)\n",
    "activation1 = Activation_ReLU()\n",
    "\n",
    "# # Forward pass with custom input data\n",
    "dense1.forward(X_custom)\n",
    "activation1.forward(dense1.output)\n",
    "\n",
    " # Print the output of Activation_ReLU for the first 5 examples\n",
    "print(\"ReLU Activation Output:\")\n",
    "print(activation1.output[:5])"
   ]
  },
  {
   "cell_type": "code",
   "execution_count": 22,
   "id": "dbdba768-400c-4c96-9c84-411ec7d68ac9",
   "metadata": {},
   "outputs": [
    {
     "name": "stdout",
     "output_type": "stream",
     "text": [
      "Weights:\n",
      "[[-0.00276433 -0.00259577  0.00364481]\n",
      " [ 0.01471322  0.01592771 -0.00258573]]\n",
      "[[0.02666211 0.02925964 0.        ]\n",
      " [0.038611   0.04259158 0.        ]\n",
      " [0.         0.         0.00152664]]\n"
     ]
    }
   ],
   "source": [
    "import numpy as np\n",
    "X_custom = np.array([[1.0, 2.0],\n",
    "                     [2.0, 3.0],\n",
    "                     [-1.0, -2.0]])\n",
    "\n",
    "class Layer_Dense:\n",
    "    def __init__(self, n_inputs, n_neurons):\n",
    "        self.weights = 0.01 * np.random.randn(n_inputs, n_neurons)\n",
    "        self.biases = np.zeros((1, n_neurons))\n",
    "        print(\"Weights:\")\n",
    "        print(self.weights)\n",
    "\n",
    "    def forward(self, inputs):\n",
    "        self.output = np.dot(inputs, self.weights) + self.biases\n",
    "        \n",
    "class Activation_ReLU:\n",
    "    def forward(self, inputs):\n",
    "        self.output = np.maximum(0, inputs)\n",
    "        \n",
    "dense1 = Layer_Dense(2,3)\n",
    "activation1 = Activation_ReLU()\n",
    "\n",
    "dense1.forward(X_custom)\n",
    "activation1.forward(dense1.output)\n",
    "\n",
    "print(activation1.output[:5])"
   ]
  },
  {
   "cell_type": "markdown",
   "id": "7a0031da-9aa4-440f-9f35-2372965d674c",
   "metadata": {},
   "source": [
    "## Softmax Activation Function"
   ]
  },
  {
   "cell_type": "code",
   "execution_count": 23,
   "id": "26afc1de-3de4-48a9-a3d5-58f9c885da65",
   "metadata": {},
   "outputs": [
    {
     "name": "stdout",
     "output_type": "stream",
     "text": [
      "exponentiated values:\n",
      "[121.51041751893969, 3.3534846525504487, 10.85906266492961]\n",
      "Normalized exponentiated values:\n",
      "[0.8952826639573506, 0.024708306782070668, 0.08000902926057876]\n",
      "Sum of normalized values: 1.0\n"
     ]
    }
   ],
   "source": [
    "layer_output = [4.8,1.21,2.385]\n",
    "E = 2.71828182846\n",
    "exp_values = []\n",
    "for output in layer_output:\n",
    "    exp_values.append(E ** output)\n",
    "print('exponentiated values:') \n",
    "print(exp_values)\n",
    "\n",
    "norm_base = sum(exp_values)\n",
    "norm_value = []\n",
    "for value in exp_values:\n",
    "    norm_value.append(value/norm_base)\n",
    "print('Normalized exponentiated values:') \n",
    "print(norm_value) \n",
    "print('Sum of normalized values:', sum(norm_value)) \n",
    "\n",
    "\n",
    "# we can do it same using numpy as below"
   ]
  },
  {
   "cell_type": "code",
   "execution_count": 24,
   "id": "0c02fa1a-4dea-40bd-9414-66bca653b72b",
   "metadata": {},
   "outputs": [
    {
     "name": "stdout",
     "output_type": "stream",
     "text": [
      "exponential values\n",
      "[121.51041752   3.35348465  10.85906266]\n",
      "noramlize values\n",
      "[0.89528266 0.02470831 0.08000903]\n"
     ]
    }
   ],
   "source": [
    "import numpy as np\n",
    "layer_outputs = [4.8,1.21,2.385]\n",
    "exp_values = np.exp(layer_outputs)\n",
    "print(\"exponential values\")\n",
    "print(exp_values)\n",
    "\n",
    "norm_values = exp_values/np.sum(exp_values)\n",
    "print(\"noramlize values\")\n",
    "print(norm_values)\n"
   ]
  },
  {
   "cell_type": "code",
   "execution_count": 25,
   "id": "2be948c6-aadd-4fe5-883e-743e31d925b3",
   "metadata": {},
   "outputs": [
    {
     "name": "stdout",
     "output_type": "stream",
     "text": [
      "sum without axis\n",
      "18.172\n",
      "this will be identical to above since default is none\n",
      "18.172\n"
     ]
    }
   ],
   "source": [
    "import numpy as np\n",
    "layer_outputs = np.array([[4.8,1.21,2.385],\n",
    "                         [8.9,-1.81,0.2],\n",
    "                         [1.41,1.051,0.026]])\n",
    "print('sum without axis')\n",
    "print(np.sum(layer_outputs))\n",
    "\n",
    "print('this will be identical to above since default is none')\n",
    "print(np.sum(layer_outputs,axis = None))"
   ]
  },
  {
   "cell_type": "code",
   "execution_count": 26,
   "id": "26f32fb6-1784-438f-ba54-f64511e4eea6",
   "metadata": {},
   "outputs": [
    {
     "name": "stdout",
     "output_type": "stream",
     "text": [
      "[15.11   0.451  2.611]\n"
     ]
    }
   ],
   "source": [
    "#axis 0  (ROW) this means to sum row wise along axis 0\n",
    "print(np.sum(layer_outputs, axis=0))  #4.8+8.9+1.41 #the values from all the other dimensions at this position are summed to form it"
   ]
  },
  {
   "cell_type": "code",
   "execution_count": 27,
   "id": "5d700a5a-36b6-4fa4-8a06-837dacdfd8b6",
   "metadata": {},
   "outputs": [
    {
     "name": "stdout",
     "output_type": "stream",
     "text": [
      "So we can sum axis 1, but note the current shape:\n",
      "[8.395 7.29  2.487]\n"
     ]
    }
   ],
   "source": [
    "print('So we can sum axis 1, but note the current shape:') \n",
    "print(np.sum(layer_outputs, axis=1))"
   ]
  },
  {
   "cell_type": "code",
   "execution_count": 28,
   "id": "5e5629d6-7206-4899-9d8f-41f4982f74e0",
   "metadata": {},
   "outputs": [
    {
     "name": "stdout",
     "output_type": "stream",
     "text": [
      "Sum axis 1, but keep the same dimensions as input:\n",
      "[[8.395]\n",
      " [7.29 ]\n",
      " [2.487]]\n"
     ]
    }
   ],
   "source": [
    "print('Sum axis 1, but keep the same dimensions as input:') \n",
    "print(np.sum(layer_outputs,axis=1,keepdims=True))  #keepdims for dimension as original"
   ]
  },
  {
   "cell_type": "code",
   "execution_count": 29,
   "id": "00499c94-c0df-481e-bb0d-3da7ea45ba11",
   "metadata": {},
   "outputs": [],
   "source": [
    "#softmax function\n",
    "class Activation_Softmax:\n",
    "    def forward(self,inputs):\n",
    "        #Getting Unnormalized probabilities\n",
    "        exp_values = np.exp(inputs - np.max(inputs,axis=1,keepdims=True))\n",
    "        #normalizing the probabilities\n",
    "        probabilites  = exp_values/np.sum(exp_values,axis=1,keepdims = True)\n",
    "        self.output = probabilites"
   ]
  },
  {
   "cell_type": "code",
   "execution_count": 30,
   "id": "9456e07d-b088-4f1a-aa91-871d3fdcdf05",
   "metadata": {},
   "outputs": [
    {
     "name": "stdout",
     "output_type": "stream",
     "text": [
      "2.718281828459045\n",
      "22026.465794806718\n",
      "2.6881171418161356e+43\n",
      "inf\n",
      "0.0 1.0\n"
     ]
    },
    {
     "name": "stderr",
     "output_type": "stream",
     "text": [
      "C:\\Users\\manan\\AppData\\Local\\Temp\\ipykernel_14916\\3525385833.py:5: RuntimeWarning: overflow encountered in exp\n",
      "  print(np.exp(1000))\n"
     ]
    }
   ],
   "source": [
    "import numpy as np\n",
    "print(np.exp(1))\n",
    "print(np.exp(10))\n",
    "print(np.exp(100))\n",
    "print(np.exp(1000))\n",
    "print(np.exp(-np.inf),np.exp(0))"
   ]
  },
  {
   "cell_type": "code",
   "execution_count": 31,
   "id": "90235df5-bbe9-4c4a-827e-c794795fedb2",
   "metadata": {},
   "outputs": [
    {
     "name": "stdout",
     "output_type": "stream",
     "text": [
      "[[0.09003057 0.24472847 0.66524096]]\n"
     ]
    }
   ],
   "source": [
    "softmax = Activation_Softmax() \n",
    "softmax.forward([[1, 2, 3]]) \n",
    "print(softmax.output)"
   ]
  },
  {
   "cell_type": "code",
   "execution_count": 32,
   "id": "0dca3fd6-f06d-4339-838d-6fa92c86ca92",
   "metadata": {},
   "outputs": [
    {
     "name": "stdout",
     "output_type": "stream",
     "text": [
      "Weights:\n",
      "[[-0.00778183  0.01736775 -0.01446578]\n",
      " [-0.01582685  0.00960557  0.0022584 ]]\n",
      "Weights:\n",
      "[[-0.00549499 -0.01098571  0.023208  ]\n",
      " [ 0.00117091  0.00534201  0.00317885]\n",
      " [ 0.00434808  0.00540094  0.00732424]]\n",
      "[[0.33333334 0.33333334 0.33333334]\n",
      " [0.33333325 0.33333334 0.33333337]\n",
      " [0.3333332  0.3333335  0.33333334]\n",
      " [0.33333313 0.33333346 0.33333337]\n",
      " [0.33333308 0.33333355 0.3333334 ]]\n"
     ]
    }
   ],
   "source": [
    "import nnfs\n",
    "from nnfs.datasets import spiral_data\n",
    "# Create dataset \n",
    "x,y = spiral_data(samples = 100, classes =3)\n",
    "# Create Dense layer with 2 input features and 3 output values\n",
    "dense1 = Layer_Dense(2,3)\n",
    "# Create ReLU activation (to be used with Dense layer): \n",
    "activation1 =  Activation_ReLU()\n",
    "dense2 = Layer_Dense(3,3)\n",
    "# Create second Dense layer with 3 input features (as we take output \n",
    "# of previous layer here) and 3 output values \n",
    "activation2 = Activation_Softmax()\n",
    "# Create Softmax activation (to be used with Dense layer):\n",
    "dense1.forward(x)\n",
    "# Make a forward pass of our training data through this layer\n",
    "activation1.forward(dense1.output)\n",
    "# Make a forward pass through activation function \n",
    "# it takes the output of first dense layer here \n",
    "dense2.forward(activation1.output)\n",
    "# Make a forward pass through activation function \n",
    "# it takes the output of second dense layer here \n",
    "activation2.forward(dense2.output)\n",
    "# Let's see output of the first few samples\n",
    "print(activation2.output[:5])"
   ]
  },
  {
   "cell_type": "markdown",
   "id": "8f11e842-22f3-42f3-b2a6-a83521900f33",
   "metadata": {},
   "source": [
    "## Full Code Up to this point"
   ]
  },
  {
   "cell_type": "code",
   "execution_count": 33,
   "id": "15a7a287-21ae-4b50-8b02-8b9715b69f4f",
   "metadata": {},
   "outputs": [
    {
     "name": "stdout",
     "output_type": "stream",
     "text": [
      "[[0.33333334 0.33333334 0.33333334]\n",
      " [0.33333328 0.33333328 0.3333334 ]\n",
      " [0.3333331  0.33333313 0.33333373]\n",
      " [0.33333313 0.33333313 0.3333337 ]\n",
      " [0.33333305 0.33333305 0.33333388]]\n"
     ]
    }
   ],
   "source": [
    "import numpy as np\n",
    "import nnfs\n",
    "from nnfs.datasets import spiral_data\n",
    "\n",
    "nnfs.init()\n",
    "\n",
    "#Dense Layer\n",
    "class Layer_Dense:\n",
    "\n",
    "    #Layer initalization\n",
    "    def __init__(self,n_inputs,n_neurons):\n",
    "        #Initalize weights and Biases\n",
    "        self.weights = 0.01 * np.random.randn(n_inputs,n_neurons)\n",
    "        self.biases = np.zeros((1,n_neurons))\n",
    "    #forward pass\n",
    "    def forward(self,inputs):\n",
    "        self.output = np.dot(inputs,self.weights)+self.biases\n",
    "\n",
    "#ReLU Activation\n",
    "class Activation_Relu:\n",
    "    #forward pass\n",
    "    def forward(self,inputs):\n",
    "        #calculate the outputs values from inputs\n",
    "        self.output = np.maximum(0,inputs)\n",
    "\n",
    "#Softmax Activation\n",
    "class Activation_Softmax:\n",
    "    def forward(self,inputs):\n",
    "        #get unnormalized probabilites\n",
    "        exp_values = np.exp(inputs - np.max(inputs,axis=1,keepdims = True))\n",
    "        #normalize them for each sample\n",
    "        probabilites = exp_values / np.sum(exp_values,axis=1,keepdims = True)\n",
    "        self.output = probabilites\n",
    "\n",
    "#create dataset\n",
    "X,y = spiral_data(samples=100,classes=3)\n",
    "\n",
    "#create dense layer with 2 input features and 3 output values\n",
    "dense1 = Layer_Dense(2,3)\n",
    "\n",
    "#create ReLU activation(to be use with Dense Layer)\n",
    "activation1 = Activation_ReLU()\n",
    "\n",
    "# Create second Dense layer with 3 input features (as we take output \n",
    "# of previous layer here) and 3 output values (output values)\n",
    "dense2  = Layer_Dense(3,3)\n",
    "\n",
    "# Create Softmax activation (to be used with Dense layer): \n",
    "activation2 = Activation_Softmax()\n",
    "\n",
    "# Make a forward pass of our training data through this layer \n",
    "dense1.forward(x)\n",
    "\n",
    "# Make a forward pass through activation function \n",
    "# it takes the output of first dense layer here\n",
    "activation1.forward(dense1.output)\n",
    "\n",
    "# Make a forward pass through second Dense layer \n",
    "# it takes outputs of activation function of first layer as inputs\n",
    "dense2.forward(activation1.output) \n",
    "\n",
    "# Make a forward pass through activation function \n",
    "# it takes the output of second dense layer here\n",
    "activation2.forward(dense2.output) \n",
    "\n",
    "# Let's see output of the first few samples: \n",
    "print(activation2.output[:5])"
   ]
  },
  {
   "cell_type": "markdown",
   "id": "806b1259-8aed-498a-a437-74b7988dd7a0",
   "metadata": {},
   "source": [
    "## Loss Function \n",
    "## Cross Entropy"
   ]
  },
  {
   "cell_type": "code",
   "execution_count": 34,
   "id": "8853b41b-919f-48d4-a140-e33b67fff0a3",
   "metadata": {},
   "outputs": [
    {
     "name": "stdout",
     "output_type": "stream",
     "text": [
      "0.35667494393873245\n"
     ]
    }
   ],
   "source": [
    "import math\n",
    "#An example output from the output layer of the neural network\n",
    "softmax_output = [0.7,0.1,0.2]\n",
    "#ground truth\n",
    "target_output = [1,0,0]\n",
    "\n",
    "#loss\n",
    "loss = -(math.log(softmax_output[0])*target_output[0]+\n",
    "         math.log(softmax_output[1])*target_output[1]+\n",
    "         math.log(softmax_output[2])*target_output[2])\n",
    "print(loss)"
   ]
  },
  {
   "cell_type": "code",
   "execution_count": 35,
   "id": "e3877ee5-e048-4a7a-8838-d0f71b18e79d",
   "metadata": {},
   "outputs": [],
   "source": [
    "softmax_outputs =  [[0.7, 0.1, 0.2], \n",
    "                   [0.1, 0.5, 0.4], \n",
    "                   [0.02, 0.9, 0.08]] \n",
    "class_targets = [0,1,1]"
   ]
  },
  {
   "cell_type": "code",
   "execution_count": 36,
   "id": "3e069842-98aa-4760-826f-e294516146fb",
   "metadata": {},
   "outputs": [],
   "source": [
    "#spare targets"
   ]
  },
  {
   "cell_type": "code",
   "execution_count": 37,
   "id": "3a53592f-6e03-4176-b654-3c4eeb91a5dd",
   "metadata": {},
   "outputs": [
    {
     "name": "stdout",
     "output_type": "stream",
     "text": [
      "[0.7 0.5 0.9]\n",
      "0.38506088005216804\n"
     ]
    }
   ],
   "source": [
    "\n",
    "import numpy as np\n",
    "#softmax_outputs \n",
    "softmax_outputs = np.array([[0.7,0.1,0.2],\n",
    "                            [0.1,0.5,0.4],\n",
    "                            [0.02,0.9,0.08]])\n",
    "\n",
    "#target indicies\n",
    "class_targets = np.array([0,1,1])\n",
    "\n",
    "#use the correct class indices to pick the correct cladd probabilites\n",
    "correct_confidence = softmax_outputs[range(len(softmax_outputs)),class_targets]\n",
    "print(correct_confidence)\n",
    "\n",
    "#cal negative log of these probabilities\n",
    "negative_log_likelihood = -np.log(correct_confidence)\n",
    "\n",
    "#calculate the mean loss\n",
    "loss = np.mean(negative_log_likelihood)\n",
    "print(loss)"
   ]
  },
  {
   "cell_type": "code",
   "execution_count": 38,
   "id": "1a304949-42b6-40bd-ad2e-6ce467b2f775",
   "metadata": {},
   "outputs": [
    {
     "name": "stdout",
     "output_type": "stream",
     "text": [
      "0.7\n",
      "0.5\n",
      "0.9\n"
     ]
    }
   ],
   "source": [
    "softmax_outputs = np.array([[0.7,0.1,0.2],\n",
    "                            [0.1,0.5,0.4],\n",
    "                            [0.02,0.9,0.08]])\n",
    "\n",
    "class_targets = [0,1,1]\n",
    "\n",
    "for targ_index, distribution in zip(class_targets, softmax_outputs):\n",
    "    print(distribution[targ_index]) #conifdence score"
   ]
  },
  {
   "cell_type": "code",
   "execution_count": 39,
   "id": "5a2fb96c-3142-4dc4-8600-0fbc697601fd",
   "metadata": {},
   "outputs": [],
   "source": [
    "#when targets are in one hot encoded form"
   ]
  },
  {
   "cell_type": "code",
   "execution_count": 40,
   "id": "2f0616b1-f391-438c-bbf7-d4c8b10a9ab9",
   "metadata": {},
   "outputs": [
    {
     "name": "stdout",
     "output_type": "stream",
     "text": [
      "0.38506088005216804\n"
     ]
    }
   ],
   "source": [
    "import numpy as np\n",
    "#softmax outputs\n",
    "softmax_outputs = [[0.7,0.1,0.2],\n",
    "                   [0.1,0.5,0.4],\n",
    "                   [0.02,0.9,0.08]]\n",
    "#example of one hot encoded targets\n",
    "one_hot_targets = np.array([[1,0,0],\n",
    "                            [0,1,0],\n",
    "                            [0,1,0]])\n",
    "#example of spare targets \n",
    "sparse_targets = np.array([0, 1, 1])\n",
    "\n",
    "\n",
    "#check if the targets are in the form of one hot encoded\n",
    "if len(one_hot_targets.shape) == 2:\n",
    "        # One-hot encoded targets\n",
    "    correct_confidence = np.sum(softmax_outputs*one_hot_targets, axis=1)\n",
    "else:\n",
    "    #sparse targest\n",
    "    correct_confidence = softmax_outputs[range(len(softmax_outputs)), sparse_targets]\n",
    "\n",
    "#calculate the negative log\n",
    "neg_log = -np.log(correct_confidence)\n",
    "\n",
    "#calculate the average loss\n",
    "avg_loss = np.mean(neg_log)\n",
    "print(avg_loss)"
   ]
  },
  {
   "cell_type": "code",
   "execution_count": 41,
   "id": "552587bb-5717-445f-8943-5c515129f77a",
   "metadata": {},
   "outputs": [
    {
     "name": "stdout",
     "output_type": "stream",
     "text": [
      "0.3850607287294289\n"
     ]
    }
   ],
   "source": [
    "import numpy as np\n",
    "\n",
    "# Define softmax outputs\n",
    "softmax_outputs = np.array([[0.7, 0.1, 0.2], \n",
    "                            [0.1, 0.5, 0.4], \n",
    "                            [0.02, 0.9, 0.08]])\n",
    "\n",
    "# Define a small value (epsilon) to avoid log(0)\n",
    "epsilon = 1e-7\n",
    "\n",
    "# Adjust softmax outputs to avoid zero\n",
    "adjusted_outputs = softmax_outputs + epsilon\n",
    "\n",
    "# Example target indices\n",
    "class_targets = [0, 1, 1]\n",
    "\n",
    "# Use range(len(softmax_outputs)) to generate [0, 1, 2]\n",
    "row_indices = range(len(softmax_outputs))\n",
    "\n",
    "# Select the probabilities for the correct classes\n",
    "correct_confidence = adjusted_outputs[row_indices, class_targets]\n",
    "\n",
    "# Calculate negative log with epsilon adjustment\n",
    "neg_log = -np.log(correct_confidence)\n",
    "\n",
    "# Calculate average loss\n",
    "average_loss = np.mean(neg_log)\n",
    "\n",
    "print(average_loss)"
   ]
  },
  {
   "cell_type": "code",
   "execution_count": 42,
   "id": "dc43630f-9b24-4c9a-a3e7-7f7bdfddd40a",
   "metadata": {},
   "outputs": [],
   "source": [
    "#Here is how you can implement clipping to avoid the issues with taking the log of 0 or 1:"
   ]
  },
  {
   "cell_type": "code",
   "execution_count": 43,
   "id": "dfe1cf75-f512-4524-9e2d-ceb659b143b7",
   "metadata": {},
   "outputs": [
    {
     "name": "stdout",
     "output_type": "stream",
     "text": [
      "[[0.7  0.1  0.2 ]\n",
      " [0.1  0.5  0.4 ]\n",
      " [0.02 0.9  0.08]]\n",
      "0.38506088005216804\n"
     ]
    }
   ],
   "source": [
    "import numpy as np\n",
    "\n",
    "# Example softmax outputs\n",
    "softmax_outputs = np.array([[0.7, 0.1, 0.2], \n",
    "                            [0.1, 0.5, 0.4], \n",
    "                            [0.02, 0.9, 0.08]])\n",
    "\n",
    "# Example target indices\n",
    "class_targets = [0, 1, 1]\n",
    "\n",
    "# Clip the softmax outputs\n",
    "y_pred_clipped = np.clip(softmax_outputs, 1e-7, 1 - 1e-7)\n",
    "print(y_pred_clipped)\n",
    "\n",
    "# Select the probabilities for the correct classes\n",
    "correct_confidence = y_pred_clipped[range(len(softmax_outputs)), class_targets]\n",
    "\n",
    "# Calculate negative log of the correct confidences\n",
    "neg_log = -np.log(correct_confidence)\n",
    "\n",
    "# Calculate the average loss\n",
    "average_loss = np.mean(neg_log)\n",
    "\n",
    "print(average_loss)"
   ]
  },
  {
   "cell_type": "markdown",
   "id": "62edd4b1-81b9-4589-8166-7154761ba07d",
   "metadata": {},
   "source": [
    "# The Categorical Cross-Entropy Loss Class"
   ]
  },
  {
   "cell_type": "code",
   "execution_count": 44,
   "id": "00d2a4a8-97b3-44ef-ab08-43a8fa2e4350",
   "metadata": {},
   "outputs": [],
   "source": [
    "#common loss\n",
    "class Loss:\n",
    "    #calcualte the data and regularization loss\n",
    "    def calculate(self,output,y):\n",
    "        #calculate the sample loss\n",
    "        sample_losses = self.forward(output,y)\n",
    "        #calculate the mean loss\n",
    "        data_loss = np.mean(sample_losses)\n",
    "        #retunr loss\n",
    "        return data_loss"
   ]
  },
  {
   "cell_type": "code",
   "execution_count": 45,
   "id": "96690d43-1098-4be4-8be8-d8dc5712547d",
   "metadata": {},
   "outputs": [],
   "source": [
    "#cross entropy loss class "
   ]
  },
  {
   "cell_type": "markdown",
   "id": "b3e7682a-d6ae-4516-82e2-a83498089d38",
   "metadata": {},
   "source": [
    "#for the below code refer the code in the cell 53 or just 2-3 cell above this"
   ]
  },
  {
   "cell_type": "code",
   "execution_count": 46,
   "id": "a9b5fae4-f13a-4d68-bf7d-394200f99bd3",
   "metadata": {},
   "outputs": [],
   "source": [
    "import numpy as np\n",
    "\n",
    "# Define the base loss class\n",
    "class Loss:\n",
    "    # Calculate the data and regularization loss\n",
    "    def calculate(self, output, y):\n",
    "        # Calculate the sample loss\n",
    "        sample_losses = self.forward(output, y)\n",
    "        # Calculate the mean loss\n",
    "        data_loss = np.mean(sample_losses)\n",
    "        # Return loss\n",
    "        return data_loss\n",
    "\n",
    "# Define the categorical cross-entropy loss class\n",
    "class Loss_CategoricalCrossentropy(Loss):\n",
    "    # Forward pass\n",
    "    def forward(self, y_pred, y_true):\n",
    "        # Number of samples in a batch\n",
    "        samples = len(y_pred)\n",
    "        \n",
    "        # Clip data to prevent division by 0\n",
    "        # Clip both sides to not drag mean towards any value\n",
    "        y_pred_clipped = np.clip(y_pred, 1e-7, 1 - 1e-7)\n",
    "        \n",
    "        # Probabilities for target values - only if categorical labels\n",
    "        if len(y_true.shape) == 1:\n",
    "            correct_confidences = y_pred_clipped[\n",
    "                range(samples),\n",
    "                y_true\n",
    "            ]\n",
    "        # Mask values - only for one-hot encoded labels\n",
    "        elif len(y_true.shape) == 2:\n",
    "            correct_confidences = np.sum(\n",
    "                y_pred_clipped * y_true,\n",
    "                axis=1\n",
    "            )\n",
    "        \n",
    "        # Losses\n",
    "        negative_log_likelihoods = -np.log(correct_confidences)\n",
    "        return negative_log_likelihoods"
   ]
  },
  {
   "cell_type": "markdown",
   "id": "0b4cdf61-b142-413b-be9a-6984e88f6237",
   "metadata": {},
   "source": [
    "# Combining everything up to this point"
   ]
  },
  {
   "cell_type": "code",
   "execution_count": 47,
   "id": "c3c410fd-9fec-49ed-8170-d1ac4c3d140c",
   "metadata": {},
   "outputs": [
    {
     "name": "stdout",
     "output_type": "stream",
     "text": [
      "[[0.33333334 0.33333334 0.33333334]\n",
      " [0.3333332  0.3333332  0.33333364]\n",
      " [0.3333329  0.33333293 0.3333342 ]\n",
      " [0.3333326  0.33333263 0.33333477]\n",
      " [0.33333233 0.3333324  0.33333528]]\n",
      "loss: 1.0986104\n"
     ]
    }
   ],
   "source": [
    "import numpy as np\n",
    "import nnfs\n",
    "from nnfs.datasets import spiral_data\n",
    "nnfs.init()\n",
    "\n",
    "#class layer\n",
    "class Layer_Dense:\n",
    "    #layer initalization\n",
    "    def __init__(self,n_inputs,n_neurons):\n",
    "        #initalize weights and biases \n",
    "        self.weights = 0.01*np.random.randn(n_inputs,n_neurons)\n",
    "        self.biases = np.zeros((1,n_neurons))\n",
    "        #forward pass\n",
    "    def forward(self,inputs):\n",
    "        #calculate output values from inputs,weights and biases \n",
    "        self.output = np.dot(inputs,self.weights) + self.biases\n",
    "\n",
    "#ReLU Activation\n",
    "class Relu_Activation:\n",
    "    #forward pass\n",
    "    def forward(self,inputs):\n",
    "        #calculate output values from inputs\n",
    "        self.output = np.maximum(0,inputs)\n",
    "\n",
    "#softmax_activation\n",
    "class Activation_Softmax:\n",
    "    #forward pass\n",
    "    def forward(self,inputs):\n",
    "        #get unnormalized probabilitites\n",
    "        exp_values = np.exp(inputs - np.max(inputs,axis=1,\n",
    "                                            keepdims= True))\n",
    "        #normalize them for each samples\n",
    "        probabilites = exp_values/np.sum(exp_values,axis=1,\n",
    "                                         keepdims=True)\n",
    "        self.output = probabilites\n",
    "\n",
    "#common loss class\n",
    "class Loss:\n",
    "    #calculate the data and regularization loss\n",
    "    #given model output and ground truth values\n",
    "    def calculate(self,output,y):\n",
    "        #calculate sample loss\n",
    "        sample_losses = self.forward(output,y)\n",
    "        #calcualte mean loss\n",
    "        data_loss = np.mean(sample_losses)\n",
    "        #Return loss\n",
    "        return data_loss\n",
    "\n",
    "#cross-entropy loss\n",
    "class Loss_CateogircalCrossentropy(Loss):\n",
    "    #forward pass\n",
    "    def forward(self,y_pred,y_true):\n",
    "        #number of samples in batch\n",
    "        samples = len(y_pred)\n",
    "        #clip data to prevent divison by 0\n",
    "        #clip both sides to not drag mean torwards any values\n",
    "        y_pred_clipped = np.clip(y_pred,1e-7,1-1e-7)\n",
    "        #probabilities for targte values\n",
    "        #only if categorical labels\n",
    "        if len(y_true.shape)==1:\n",
    "            correct_confidences = y_pred_clipped[\n",
    "            range(samples),\n",
    "            y_true\n",
    "            ]\n",
    "        # Mask values - only for one-hot encoded labels\n",
    "        elif len(y_true.shape)==2:\n",
    "            correct_confidence == np.sum(\n",
    "                y_pred_clipped * y_true,\n",
    "                axis = 1\n",
    "            )\n",
    "        negative_log_likelihood = -np.log(correct_confidences)\n",
    "        return negative_log_likelihood\n",
    "        \n",
    "X, y = spiral_data(samples=100, classes=3) \n",
    "dense1 = Layer_Dense(2, 3) \n",
    "activation1 = Relu_Activation() \n",
    "dense2 = Layer_Dense(3, 3) \n",
    "activation2 = Activation_Softmax() \n",
    "loss_function = Loss_CateogircalCrossentropy() \n",
    "dense1.forward(X) \n",
    "activation1.forward(dense1.output) \n",
    "dense2.forward(activation1.output) \n",
    "# Perform a forward pass through activation function \n",
    "# it takes the output of second dense layer here \n",
    "activation2.forward(dense2.output) \n",
    "# Let's see output of the first few samples: \n",
    "print(activation2.output[:5]) \n",
    "# Perform a forward pass through loss function \n",
    "# it takes the output of second dense layer here and returns loss \n",
    "loss = loss_function.calculate(activation2.output, y) \n",
    "print('loss:', loss)\n",
    "        \n",
    "    "
   ]
  },
  {
   "cell_type": "markdown",
   "id": "2c715157-0fb6-418a-aca3-38fb54137ed2",
   "metadata": {},
   "source": [
    "## Accuracy Calculation"
   ]
  },
  {
   "cell_type": "code",
   "execution_count": 48,
   "id": "b57d27b7-1b4c-4aea-aaa2-7cb7153dcc6d",
   "metadata": {},
   "outputs": [
    {
     "name": "stdout",
     "output_type": "stream",
     "text": [
      "acc: 0.6666666666666666\n"
     ]
    }
   ],
   "source": [
    "import numpy as np\n",
    "#probabilites of 3 samples\n",
    "softmax_outputs = np.array([[0.7,0.2,0.1],\n",
    "                            [0.5,0.1,0.4],\n",
    "                            [0.02,0.9,0.08]])\n",
    "#target (groudn-truth) labels of 3 samples\n",
    "class_targets = np.array([1,0,1])\n",
    "#calculate values along second axis (axis of index 1)\n",
    "predicitions = np.argmax(softmax_outputs,axis=1)\n",
    "#if targets are one hot encoded convert them\n",
    "if len(class_targets.shape)==2:\n",
    "    class_targets=np.argmax(class_targets,axis=1)\n",
    "\n",
    "#True evaluates to 1,False to 0\n",
    "accuracy = np.mean(predicitions == class_targets)\n",
    "print('acc:',accuracy)"
   ]
  },
  {
   "cell_type": "code",
   "execution_count": 49,
   "id": "01b11c55-1282-40ba-939e-021b46ecfc99",
   "metadata": {},
   "outputs": [
    {
     "data": {
      "image/png": "[encoded data removed]",
      "text/plain": [
       "<Figure size 640x480 with 1 Axes>"
      ]
     },
     "metadata": {},
     "output_type": "display_data"
    }
   ],
   "source": [
    "import matplotlib.pyplot as plt\n",
    "import nnfs\n",
    "from nnfs.datasets import vertical_data\n",
    "nnfs.init()\n",
    "X,y = vertical_data(samples=100,classes=3)\n",
    "plt.scatter(X[:, 0], X[:, 1], c=y, s=40, cmap='brg') \n",
    "plt.show()"
   ]
  },
  {
   "cell_type": "code",
   "execution_count": 50,
   "id": "2c58dcb3-817f-42c8-8588-05a07f11248c",
   "metadata": {},
   "outputs": [],
   "source": [
    "X, y = vertical_data(samples=100, classes=3) \n",
    "# Create model \n",
    "dense1 = Layer_Dense(2, 3)  # first dense layer, 2 inputs \n",
    "activation1 = Activation_ReLU() \n",
    "dense2 = Layer_Dense(3, 3)  # second dense layer, 3 inputs, 3 outputs \n",
    "activation2 = Activation_Softmax() \n",
    "# Create loss function \n",
    "loss_function = Loss_CategoricalCrossentropy()"
   ]
  },
  {
   "cell_type": "code",
   "execution_count": 51,
   "id": "2dc97284-466c-4761-8c57-ffea931b3591",
   "metadata": {},
   "outputs": [],
   "source": [
    "#helper varaible\n",
    "lowest_loss = 9999999 #some random value\n",
    "best_dense1_weights = dense1.weights.copy()\n",
    "best_dense1_biases = dense1.biases.copy()\n",
    "best_dense2_weights = dense2.weights.copy()\n",
    "best_dense2_biases = dense2.biases.copy()"
   ]
  },
  {
   "cell_type": "code",
   "execution_count": 52,
   "id": "8283534f-a2e4-4106-ba49-fd89d1879ed0",
   "metadata": {},
   "outputs": [
    {
     "data": {
      "image/png": "[encoded data removed]",
      "text/plain": [
       "<Figure size 640x480 with 1 Axes>"
      ]
     },
     "metadata": {},
     "output_type": "display_data"
    },
    {
     "name": "stdout",
     "output_type": "stream",
     "text": [
      "New set of weights found, iteration: 0 loss: 1.0986564 acc: 0.3333333333333333\n",
      "New set of weights found, iteration: 3 loss: 1.098138 acc: 0.3333333333333333\n",
      "New set of weights found, iteration: 117 loss: 1.0980115 acc: 0.3333333333333333\n",
      "New set of weights found, iteration: 124 loss: 1.0977516 acc: 0.6\n",
      "New set of weights found, iteration: 165 loss: 1.0975711 acc: 0.3333333333333333\n",
      "New set of weights found, iteration: 552 loss: 1.0974693 acc: 0.34\n",
      "New set of weights found, iteration: 778 loss: 1.0968257 acc: 0.3333333333333333\n"
     ]
    }
   ],
   "source": [
    "import numpy as np\n",
    "import matplotlib.pyplot as plt\n",
    "import nnfs\n",
    "from nnfs.datasets import vertical_data\n",
    "\n",
    "nnfs.init()\n",
    "\n",
    "# Generate dataset\n",
    "X, y = vertical_data(samples=100, classes=3)\n",
    "\n",
    "plt.scatter(X[:, 0], X[:, 1], c=y, s=40, cmap='brg')\n",
    "plt.show()\n",
    "\n",
    "# Define the necessary classes (Assuming these are already defined in your previous code)\n",
    "class Layer_Dense:\n",
    "    def __init__(self, n_inputs, n_neurons):\n",
    "        self.weights = 0.01 * np.random.randn(n_inputs, n_neurons)\n",
    "        self.biases = np.zeros((1, n_neurons))\n",
    "    def forward(self, inputs):\n",
    "        self.output = np.dot(inputs, self.weights) + self.biases\n",
    "\n",
    "class Activation_ReLU:\n",
    "    def forward(self, inputs):\n",
    "        self.output = np.maximum(0, inputs)\n",
    "\n",
    "class Activation_Softmax:\n",
    "    def forward(self, inputs):\n",
    "        exp_values = np.exp(inputs - np.max(inputs, axis=1, keepdims=True))\n",
    "        probabilities = exp_values / np.sum(exp_values, axis=1, keepdims=True)\n",
    "        self.output = probabilities\n",
    "\n",
    "class Loss_CategoricalCrossentropy:\n",
    "    def calculate(self, output, y):\n",
    "        samples = len(output)\n",
    "        y_pred_clipped = np.clip(output, 1e-7, 1 - 1e-7)\n",
    "        if len(y.shape) == 1:\n",
    "            correct_confidences = y_pred_clipped[range(samples), y]\n",
    "        elif len(y.shape) == 2:\n",
    "            correct_confidences = np.sum(y_pred_clipped * y, axis=1)\n",
    "        negative_log_likelihoods = -np.log(correct_confidences)\n",
    "        return np.mean(negative_log_likelihoods)\n",
    "\n",
    "# Create model\n",
    "dense1 = Layer_Dense(2, 3)  # first dense layer, 2 inputs\n",
    "activation1 = Activation_ReLU()\n",
    "dense2 = Layer_Dense(3, 3)  # second dense layer, 3 inputs, 3 outputs\n",
    "activation2 = Activation_Softmax()\n",
    "\n",
    "# Create loss function\n",
    "loss_function = Loss_CategoricalCrossentropy()\n",
    "\n",
    "# Helper variables\n",
    "lowest_loss = 9999999  # some initial value\n",
    "best_dense1_weights = dense1.weights.copy()\n",
    "best_dense1_biases = dense1.biases.copy()\n",
    "best_dense2_weights = dense2.weights.copy()\n",
    "best_dense2_biases = dense2.biases.copy()\n",
    "\n",
    "for iteration in range(1000):\n",
    "    # Generate a new set of weights for iteration\n",
    "    #random weights and biases are generated for both layer\n",
    "    dense1.weights = 0.05 * np.random.randn(2, 3)\n",
    "    dense1.biases = 0.05 * np.random.randn(1, 3)\n",
    "    dense2.weights = 0.05 * np.random.randn(3, 3)\n",
    "    dense2.biases = 0.05 * np.random.randn(1, 3)\n",
    "\n",
    "    \n",
    "\n",
    "    # Perform a forward pass of the training data through this layer\n",
    "    dense1.forward(X)\n",
    "    activation1.forward(dense1.output)\n",
    "    dense2.forward(activation1.output)\n",
    "    activation2.forward(dense2.output)\n",
    "\n",
    "    # Perform a forward pass through activation function\n",
    "    # it takes the output of second dense layer here and returns loss\n",
    "    loss = loss_function.calculate(activation2.output, y)\n",
    "\n",
    "    # Calculate accuracy from output of activation2 and targets\n",
    "    # calculate values along first axis\n",
    "    predictions = np.argmax(activation2.output, axis=1)\n",
    "    accuracy = np.mean(predictions == y)\n",
    "\n",
    "    # If loss is smaller - print and save weights and biases aside\n",
    "    if loss < lowest_loss:\n",
    "        print('New set of weights found, iteration:', iteration,\n",
    "              'loss:', loss, 'acc:', accuracy)\n",
    "        best_dense1_weights = dense1.weights.copy()\n",
    "        best_dense1_biases = dense1.biases.copy()\n",
    "        best_dense2_weights = dense2.weights.copy()\n",
    "        best_dense2_biases = dense2.biases.copy()\n",
    "        lowest_loss = loss"
   ]
  },
  {
   "cell_type": "code",
   "execution_count": 53,
   "id": "e1d2e9ec-4555-486d-b894-82252fbf7e7d",
   "metadata": {},
   "outputs": [],
   "source": [
    "#Better Approach for optimizing the nerual network loss:\n",
    "# How it works:\n",
    "\n",
    "# Small Adjustments: We add small random values to the current best weights and biases. This is like making a small step in a random direction.\n",
    "# Evaluate: We calculate the loss with the new weights and biases.\n",
    "# Decision:\n",
    "# If the loss decreases, it means the new weights and biases are better. We keep these new values as the best ones.\n",
    "# If the loss increases, it means the step was in the wrong direction. We revert back to the previous best weights and biases.\n",
    "\n",
    "# dense1.weights += 0.05 * np.random.randn(2,3)\n",
    "# dense1.biases += 0.05 * np.random.randn(1,3)\n",
    "# dense2.weights += 0.05 * np.random.rand(3,3)\n",
    "# dense2.baises += 0.05 * np.random.rand(1,3)\n",
    "\n",
    "\n",
    "# # changing our ending if statement to :- \n",
    "# # If loss is smaller - print and save weights and biases aside \n",
    "# if loss < lower_loss:\n",
    "#      print('New set of weights found, iteration:', iteration, \n",
    "#               'loss:', loss, 'acc:', accuracy)\n",
    "#     best_dense1_weights = dense1.weights.copy()\n",
    "#     best_dense1_biases = dense1.biases.copy()\n",
    "#     best_dense2_weights = dense2.weights.copy()\n",
    "#     best_dense2_baises  = dense2.biases.copy()\n",
    "#     lowest_loss = loss\n",
    "# #rever weights and biases\n",
    "# else :\n",
    "#      dense1.weights = best_dense1_weights.copy\n",
    "#      dense1.biases = best_dense1_biases.copy\n",
    "#      dense2.weights = best_dense2_weights.copy\n",
    "#      dense2.biases = best_dense2_biases.copy\n"
   ]
  },
  {
   "cell_type": "code",
   "execution_count": 54,
   "id": "6bced1bf-e04e-4e57-bc51-7998e2a7c139",
   "metadata": {},
   "outputs": [
    {
     "data": {
      "image/png": "[encoded data removed]",
      "text/plain": [
       "<Figure size 640x480 with 1 Axes>"
      ]
     },
     "metadata": {},
     "output_type": "display_data"
    },
    {
     "name": "stdout",
     "output_type": "stream",
     "text": [
      "New set of weights found, iteration: 0 loss: 1.0987393 acc: 0.3333333333333333\n",
      "New set of weights found, iteration: 1 loss: 1.0986526 acc: 0.3333333333333333\n",
      "New set of weights found, iteration: 2 loss: 1.098595 acc: 0.3333333333333333\n",
      "New set of weights found, iteration: 3 loss: 1.0983745 acc: 0.3333333333333333\n",
      "New set of weights found, iteration: 4 loss: 1.0982429 acc: 0.3333333333333333\n",
      "New set of weights found, iteration: 5 loss: 1.0981094 acc: 0.3333333333333333\n",
      "New set of weights found, iteration: 7 loss: 1.0981047 acc: 0.3333333333333333\n",
      "New set of weights found, iteration: 10 loss: 1.0978016 acc: 0.3333333333333333\n",
      "New set of weights found, iteration: 11 loss: 1.0975635 acc: 0.3333333333333333\n",
      "New set of weights found, iteration: 13 loss: 1.0970186 acc: 0.5166666666666667\n",
      "New set of weights found, iteration: 37 loss: 1.0968729 acc: 0.6566666666666666\n",
      "New set of weights found, iteration: 39 loss: 1.0963765 acc: 0.4266666666666667\n",
      "New set of weights found, iteration: 41 loss: 1.095976 acc: 0.3333333333333333\n",
      "New set of weights found, iteration: 43 loss: 1.0948437 acc: 0.39\n",
      "New set of weights found, iteration: 44 loss: 1.0947171 acc: 0.3333333333333333\n",
      "New set of weights found, iteration: 45 loss: 1.0927498 acc: 0.6333333333333333\n",
      "New set of weights found, iteration: 46 loss: 1.090825 acc: 0.34\n",
      "New set of weights found, iteration: 48 loss: 1.0903211 acc: 0.5166666666666667\n",
      "New set of weights found, iteration: 51 loss: 1.0885159 acc: 0.35333333333333333\n",
      "New set of weights found, iteration: 52 loss: 1.0883994 acc: 0.3333333333333333\n",
      "New set of weights found, iteration: 53 loss: 1.0871977 acc: 0.3333333333333333\n",
      "New set of weights found, iteration: 55 loss: 1.0844232 acc: 0.38666666666666666\n",
      "New set of weights found, iteration: 57 loss: 1.0828178 acc: 0.5733333333333334\n",
      "New set of weights found, iteration: 58 loss: 1.0780636 acc: 0.5966666666666667\n",
      "New set of weights found, iteration: 62 loss: 1.0767564 acc: 0.6066666666666667\n",
      "New set of weights found, iteration: 67 loss: 1.0752269 acc: 0.66\n",
      "New set of weights found, iteration: 68 loss: 1.0709085 acc: 0.6666666666666666\n",
      "New set of weights found, iteration: 69 loss: 1.069208 acc: 0.6666666666666666\n",
      "New set of weights found, iteration: 71 loss: 1.0682569 acc: 0.6666666666666666\n",
      "New set of weights found, iteration: 73 loss: 1.066052 acc: 0.6533333333333333\n",
      "New set of weights found, iteration: 79 loss: 1.061013 acc: 0.5766666666666667\n",
      "New set of weights found, iteration: 80 loss: 1.0600486 acc: 0.42\n",
      "New set of weights found, iteration: 83 loss: 1.0569638 acc: 0.49333333333333335\n",
      "New set of weights found, iteration: 84 loss: 1.0516504 acc: 0.6066666666666667\n",
      "New set of weights found, iteration: 86 loss: 1.050092 acc: 0.6266666666666667\n",
      "New set of weights found, iteration: 91 loss: 1.0476465 acc: 0.54\n",
      "New set of weights found, iteration: 93 loss: 1.0446545 acc: 0.6366666666666667\n",
      "New set of weights found, iteration: 96 loss: 1.0441482 acc: 0.6\n",
      "New set of weights found, iteration: 99 loss: 1.0438601 acc: 0.55\n",
      "New set of weights found, iteration: 100 loss: 1.0438049 acc: 0.5966666666666667\n",
      "New set of weights found, iteration: 101 loss: 1.0415566 acc: 0.56\n",
      "New set of weights found, iteration: 102 loss: 1.0351635 acc: 0.64\n",
      "New set of weights found, iteration: 104 loss: 1.0341765 acc: 0.6366666666666667\n",
      "New set of weights found, iteration: 106 loss: 1.0337372 acc: 0.7966666666666666\n",
      "New set of weights found, iteration: 112 loss: 1.030278 acc: 0.8933333333333333\n",
      "New set of weights found, iteration: 114 loss: 1.027101 acc: 0.75\n",
      "New set of weights found, iteration: 118 loss: 1.0179428 acc: 0.63\n",
      "New set of weights found, iteration: 120 loss: 1.0163767 acc: 0.63\n",
      "New set of weights found, iteration: 121 loss: 1.0104889 acc: 0.6166666666666667\n",
      "New set of weights found, iteration: 123 loss: 1.009691 acc: 0.6433333333333333\n",
      "New set of weights found, iteration: 126 loss: 0.9992505 acc: 0.64\n",
      "New set of weights found, iteration: 128 loss: 0.99488467 acc: 0.6366666666666667\n",
      "New set of weights found, iteration: 129 loss: 0.9882838 acc: 0.6366666666666667\n",
      "New set of weights found, iteration: 130 loss: 0.9834736 acc: 0.6366666666666667\n",
      "New set of weights found, iteration: 132 loss: 0.98346376 acc: 0.5733333333333334\n",
      "New set of weights found, iteration: 133 loss: 0.9828949 acc: 0.5833333333333334\n",
      "New set of weights found, iteration: 134 loss: 0.9821007 acc: 0.5833333333333334\n",
      "New set of weights found, iteration: 135 loss: 0.9776878 acc: 0.5966666666666667\n",
      "New set of weights found, iteration: 137 loss: 0.9679551 acc: 0.6233333333333333\n",
      "New set of weights found, iteration: 142 loss: 0.9623154 acc: 0.6366666666666667\n",
      "New set of weights found, iteration: 143 loss: 0.9596822 acc: 0.64\n",
      "New set of weights found, iteration: 144 loss: 0.95822895 acc: 0.6433333333333333\n",
      "New set of weights found, iteration: 145 loss: 0.9574883 acc: 0.6233333333333333\n",
      "New set of weights found, iteration: 147 loss: 0.9539434 acc: 0.6366666666666667\n",
      "New set of weights found, iteration: 149 loss: 0.9538737 acc: 0.64\n",
      "New set of weights found, iteration: 150 loss: 0.9515349 acc: 0.6366666666666667\n",
      "New set of weights found, iteration: 154 loss: 0.94598633 acc: 0.6366666666666667\n",
      "New set of weights found, iteration: 157 loss: 0.9375956 acc: 0.6366666666666667\n",
      "New set of weights found, iteration: 159 loss: 0.93619466 acc: 0.6466666666666666\n",
      "New set of weights found, iteration: 160 loss: 0.93121815 acc: 0.64\n",
      "New set of weights found, iteration: 161 loss: 0.9301654 acc: 0.6366666666666667\n",
      "New set of weights found, iteration: 164 loss: 0.9284547 acc: 0.6433333333333333\n",
      "New set of weights found, iteration: 167 loss: 0.92701995 acc: 0.6433333333333333\n",
      "New set of weights found, iteration: 168 loss: 0.9228701 acc: 0.64\n",
      "New set of weights found, iteration: 170 loss: 0.91980934 acc: 0.64\n",
      "New set of weights found, iteration: 174 loss: 0.913487 acc: 0.61\n",
      "New set of weights found, iteration: 175 loss: 0.9117128 acc: 0.63\n",
      "New set of weights found, iteration: 176 loss: 0.90746033 acc: 0.6266666666666667\n",
      "New set of weights found, iteration: 179 loss: 0.9065458 acc: 0.6366666666666667\n",
      "New set of weights found, iteration: 180 loss: 0.90426016 acc: 0.6266666666666667\n",
      "New set of weights found, iteration: 185 loss: 0.89964277 acc: 0.6366666666666667\n",
      "New set of weights found, iteration: 187 loss: 0.8988754 acc: 0.6366666666666667\n",
      "New set of weights found, iteration: 194 loss: 0.89812386 acc: 0.6466666666666666\n",
      "New set of weights found, iteration: 196 loss: 0.892355 acc: 0.6433333333333333\n",
      "New set of weights found, iteration: 198 loss: 0.89233226 acc: 0.6433333333333333\n",
      "New set of weights found, iteration: 199 loss: 0.8906004 acc: 0.64\n",
      "New set of weights found, iteration: 206 loss: 0.8830516 acc: 0.64\n",
      "New set of weights found, iteration: 208 loss: 0.88124 acc: 0.64\n",
      "New set of weights found, iteration: 209 loss: 0.8802946 acc: 0.6366666666666667\n",
      "New set of weights found, iteration: 212 loss: 0.8773067 acc: 0.6433333333333333\n",
      "New set of weights found, iteration: 214 loss: 0.87596273 acc: 0.6433333333333333\n",
      "New set of weights found, iteration: 215 loss: 0.87138915 acc: 0.6366666666666667\n",
      "New set of weights found, iteration: 216 loss: 0.8681795 acc: 0.6366666666666667\n",
      "New set of weights found, iteration: 221 loss: 0.8645146 acc: 0.6433333333333333\n",
      "New set of weights found, iteration: 223 loss: 0.8640088 acc: 0.6333333333333333\n",
      "New set of weights found, iteration: 226 loss: 0.8624933 acc: 0.6433333333333333\n",
      "New set of weights found, iteration: 227 loss: 0.85612345 acc: 0.6266666666666667\n",
      "New set of weights found, iteration: 229 loss: 0.85416746 acc: 0.6333333333333333\n",
      "New set of weights found, iteration: 230 loss: 0.84932005 acc: 0.64\n",
      "New set of weights found, iteration: 232 loss: 0.8488562 acc: 0.6833333333333333\n",
      "New set of weights found, iteration: 233 loss: 0.84498984 acc: 0.65\n",
      "New set of weights found, iteration: 234 loss: 0.8426013 acc: 0.65\n",
      "New set of weights found, iteration: 237 loss: 0.842271 acc: 0.6233333333333333\n",
      "New set of weights found, iteration: 240 loss: 0.8402088 acc: 0.63\n",
      "New set of weights found, iteration: 242 loss: 0.8390216 acc: 0.64\n",
      "New set of weights found, iteration: 243 loss: 0.83670306 acc: 0.6566666666666666\n",
      "New set of weights found, iteration: 249 loss: 0.832897 acc: 0.6266666666666667\n",
      "New set of weights found, iteration: 252 loss: 0.83081365 acc: 0.66\n",
      "New set of weights found, iteration: 256 loss: 0.8251494 acc: 0.7\n",
      "New set of weights found, iteration: 257 loss: 0.8197347 acc: 0.6966666666666667\n",
      "New set of weights found, iteration: 259 loss: 0.8196407 acc: 0.67\n",
      "New set of weights found, iteration: 264 loss: 0.81869954 acc: 0.67\n",
      "New set of weights found, iteration: 265 loss: 0.814156 acc: 0.6933333333333334\n",
      "New set of weights found, iteration: 267 loss: 0.8129582 acc: 0.6866666666666666\n",
      "New set of weights found, iteration: 277 loss: 0.81034446 acc: 0.67\n",
      "New set of weights found, iteration: 278 loss: 0.8065149 acc: 0.65\n",
      "New set of weights found, iteration: 279 loss: 0.80425996 acc: 0.66\n",
      "New set of weights found, iteration: 281 loss: 0.79983884 acc: 0.6633333333333333\n",
      "New set of weights found, iteration: 284 loss: 0.79904425 acc: 0.6733333333333333\n",
      "New set of weights found, iteration: 286 loss: 0.7958757 acc: 0.6566666666666666\n",
      "New set of weights found, iteration: 288 loss: 0.79278547 acc: 0.6766666666666666\n",
      "New set of weights found, iteration: 295 loss: 0.78708667 acc: 0.67\n",
      "New set of weights found, iteration: 296 loss: 0.7837259 acc: 0.6566666666666666\n",
      "New set of weights found, iteration: 298 loss: 0.7822268 acc: 0.6666666666666666\n",
      "New set of weights found, iteration: 300 loss: 0.7820345 acc: 0.6733333333333333\n",
      "New set of weights found, iteration: 301 loss: 0.7809136 acc: 0.72\n",
      "New set of weights found, iteration: 305 loss: 0.7773616 acc: 0.71\n",
      "New set of weights found, iteration: 306 loss: 0.77534354 acc: 0.74\n",
      "New set of weights found, iteration: 307 loss: 0.77055585 acc: 0.72\n",
      "New set of weights found, iteration: 308 loss: 0.76448476 acc: 0.74\n",
      "New set of weights found, iteration: 309 loss: 0.7617257 acc: 0.71\n",
      "New set of weights found, iteration: 310 loss: 0.760035 acc: 0.6866666666666666\n",
      "New set of weights found, iteration: 313 loss: 0.7576164 acc: 0.7\n",
      "New set of weights found, iteration: 316 loss: 0.75267404 acc: 0.6733333333333333\n",
      "New set of weights found, iteration: 317 loss: 0.75071734 acc: 0.6733333333333333\n",
      "New set of weights found, iteration: 320 loss: 0.7404341 acc: 0.6733333333333333\n",
      "New set of weights found, iteration: 321 loss: 0.738673 acc: 0.6733333333333333\n",
      "New set of weights found, iteration: 323 loss: 0.73464346 acc: 0.6766666666666666\n",
      "New set of weights found, iteration: 324 loss: 0.7342054 acc: 0.7033333333333334\n",
      "New set of weights found, iteration: 328 loss: 0.7329411 acc: 0.69\n",
      "New set of weights found, iteration: 331 loss: 0.7292738 acc: 0.7333333333333333\n",
      "New set of weights found, iteration: 332 loss: 0.7288123 acc: 0.78\n",
      "New set of weights found, iteration: 333 loss: 0.72553605 acc: 0.7733333333333333\n",
      "New set of weights found, iteration: 336 loss: 0.72484607 acc: 0.8033333333333333\n",
      "New set of weights found, iteration: 337 loss: 0.7209937 acc: 0.7866666666666666\n",
      "New set of weights found, iteration: 338 loss: 0.7185238 acc: 0.7633333333333333\n",
      "New set of weights found, iteration: 339 loss: 0.71305156 acc: 0.77\n",
      "New set of weights found, iteration: 341 loss: 0.7072437 acc: 0.7533333333333333\n",
      "New set of weights found, iteration: 343 loss: 0.70691353 acc: 0.7366666666666667\n",
      "New set of weights found, iteration: 346 loss: 0.7059803 acc: 0.7466666666666667\n",
      "New set of weights found, iteration: 348 loss: 0.70457083 acc: 0.7666666666666667\n",
      "New set of weights found, iteration: 350 loss: 0.70105016 acc: 0.7666666666666667\n",
      "New set of weights found, iteration: 351 loss: 0.6985267 acc: 0.7833333333333333\n",
      "New set of weights found, iteration: 352 loss: 0.6975127 acc: 0.8\n",
      "New set of weights found, iteration: 355 loss: 0.6904459 acc: 0.7866666666666666\n",
      "New set of weights found, iteration: 356 loss: 0.6895457 acc: 0.7966666666666666\n",
      "New set of weights found, iteration: 357 loss: 0.68528134 acc: 0.7866666666666666\n",
      "New set of weights found, iteration: 360 loss: 0.6849439 acc: 0.8033333333333333\n",
      "New set of weights found, iteration: 363 loss: 0.6831643 acc: 0.8366666666666667\n",
      "New set of weights found, iteration: 364 loss: 0.68230265 acc: 0.8566666666666667\n",
      "New set of weights found, iteration: 366 loss: 0.680065 acc: 0.8233333333333334\n",
      "New set of weights found, iteration: 367 loss: 0.6743588 acc: 0.8066666666666666\n",
      "New set of weights found, iteration: 370 loss: 0.67245203 acc: 0.8033333333333333\n",
      "New set of weights found, iteration: 375 loss: 0.6660518 acc: 0.82\n",
      "New set of weights found, iteration: 378 loss: 0.66559374 acc: 0.7966666666666666\n",
      "New set of weights found, iteration: 380 loss: 0.6631428 acc: 0.8033333333333333\n",
      "New set of weights found, iteration: 381 loss: 0.65989757 acc: 0.7966666666666666\n",
      "New set of weights found, iteration: 385 loss: 0.6598342 acc: 0.76\n",
      "New set of weights found, iteration: 388 loss: 0.65482557 acc: 0.7866666666666666\n",
      "New set of weights found, iteration: 392 loss: 0.6494292 acc: 0.81\n",
      "New set of weights found, iteration: 395 loss: 0.64874023 acc: 0.8033333333333333\n",
      "New set of weights found, iteration: 398 loss: 0.6470611 acc: 0.8233333333333334\n",
      "New set of weights found, iteration: 399 loss: 0.64651763 acc: 0.86\n",
      "New set of weights found, iteration: 401 loss: 0.6449232 acc: 0.8166666666666667\n",
      "New set of weights found, iteration: 402 loss: 0.64364654 acc: 0.8333333333333334\n",
      "New set of weights found, iteration: 404 loss: 0.64257824 acc: 0.8733333333333333\n",
      "New set of weights found, iteration: 410 loss: 0.64041483 acc: 0.8666666666666667\n",
      "New set of weights found, iteration: 411 loss: 0.6400918 acc: 0.8966666666666666\n",
      "New set of weights found, iteration: 414 loss: 0.6396877 acc: 0.88\n",
      "New set of weights found, iteration: 415 loss: 0.63700676 acc: 0.8766666666666667\n",
      "New set of weights found, iteration: 416 loss: 0.6363856 acc: 0.8933333333333333\n",
      "New set of weights found, iteration: 417 loss: 0.63120407 acc: 0.9033333333333333\n",
      "New set of weights found, iteration: 420 loss: 0.6278342 acc: 0.8766666666666667\n",
      "New set of weights found, iteration: 421 loss: 0.62746745 acc: 0.8533333333333334\n",
      "New set of weights found, iteration: 424 loss: 0.6267044 acc: 0.8466666666666667\n",
      "New set of weights found, iteration: 427 loss: 0.6252243 acc: 0.8233333333333334\n",
      "New set of weights found, iteration: 431 loss: 0.624441 acc: 0.8166666666666667\n",
      "New set of weights found, iteration: 432 loss: 0.61831856 acc: 0.8166666666666667\n",
      "New set of weights found, iteration: 433 loss: 0.6149037 acc: 0.85\n",
      "New set of weights found, iteration: 434 loss: 0.61161476 acc: 0.8666666666666667\n",
      "New set of weights found, iteration: 435 loss: 0.6115877 acc: 0.8066666666666666\n",
      "New set of weights found, iteration: 438 loss: 0.61094284 acc: 0.7866666666666666\n",
      "New set of weights found, iteration: 439 loss: 0.6108813 acc: 0.78\n",
      "New set of weights found, iteration: 441 loss: 0.6046344 acc: 0.78\n",
      "New set of weights found, iteration: 442 loss: 0.59889364 acc: 0.8033333333333333\n",
      "New set of weights found, iteration: 443 loss: 0.59795725 acc: 0.81\n",
      "New set of weights found, iteration: 444 loss: 0.5966233 acc: 0.81\n",
      "New set of weights found, iteration: 448 loss: 0.59508634 acc: 0.81\n",
      "New set of weights found, iteration: 450 loss: 0.59389466 acc: 0.81\n",
      "New set of weights found, iteration: 451 loss: 0.5934543 acc: 0.81\n",
      "New set of weights found, iteration: 452 loss: 0.5902286 acc: 0.8366666666666667\n",
      "New set of weights found, iteration: 456 loss: 0.5819521 acc: 0.8633333333333333\n",
      "New set of weights found, iteration: 457 loss: 0.5761686 acc: 0.87\n",
      "New set of weights found, iteration: 461 loss: 0.5756194 acc: 0.8466666666666667\n",
      "New set of weights found, iteration: 463 loss: 0.57338905 acc: 0.8733333333333333\n",
      "New set of weights found, iteration: 464 loss: 0.5718398 acc: 0.9\n",
      "New set of weights found, iteration: 466 loss: 0.5697445 acc: 0.87\n",
      "New set of weights found, iteration: 469 loss: 0.56922746 acc: 0.86\n",
      "New set of weights found, iteration: 472 loss: 0.56430477 acc: 0.89\n",
      "New set of weights found, iteration: 473 loss: 0.5634584 acc: 0.89\n",
      "New set of weights found, iteration: 474 loss: 0.56024086 acc: 0.9\n",
      "New set of weights found, iteration: 479 loss: 0.5576188 acc: 0.9\n",
      "New set of weights found, iteration: 483 loss: 0.5574296 acc: 0.9033333333333333\n",
      "New set of weights found, iteration: 486 loss: 0.55715126 acc: 0.8966666666666666\n",
      "New set of weights found, iteration: 491 loss: 0.5569767 acc: 0.9\n",
      "New set of weights found, iteration: 498 loss: 0.5538995 acc: 0.8966666666666666\n",
      "New set of weights found, iteration: 499 loss: 0.549598 acc: 0.9\n",
      "New set of weights found, iteration: 500 loss: 0.5486784 acc: 0.8966666666666666\n",
      "New set of weights found, iteration: 502 loss: 0.5474645 acc: 0.9\n",
      "New set of weights found, iteration: 511 loss: 0.54742056 acc: 0.9\n",
      "New set of weights found, iteration: 520 loss: 0.54399127 acc: 0.9133333333333333\n",
      "New set of weights found, iteration: 525 loss: 0.54398406 acc: 0.91\n",
      "New set of weights found, iteration: 527 loss: 0.54395586 acc: 0.9066666666666666\n",
      "New set of weights found, iteration: 528 loss: 0.54358864 acc: 0.9066666666666666\n",
      "New set of weights found, iteration: 530 loss: 0.5416228 acc: 0.9\n",
      "New set of weights found, iteration: 531 loss: 0.5414621 acc: 0.89\n",
      "New set of weights found, iteration: 533 loss: 0.53951734 acc: 0.8933333333333333\n",
      "New set of weights found, iteration: 534 loss: 0.5388161 acc: 0.8966666666666666\n",
      "New set of weights found, iteration: 535 loss: 0.53703535 acc: 0.9\n",
      "New set of weights found, iteration: 536 loss: 0.5351716 acc: 0.9066666666666666\n",
      "New set of weights found, iteration: 539 loss: 0.5348368 acc: 0.9\n",
      "New set of weights found, iteration: 540 loss: 0.532201 acc: 0.9066666666666666\n",
      "New set of weights found, iteration: 543 loss: 0.5294649 acc: 0.9066666666666666\n",
      "New set of weights found, iteration: 546 loss: 0.5254879 acc: 0.9\n",
      "New set of weights found, iteration: 554 loss: 0.52272725 acc: 0.9033333333333333\n",
      "New set of weights found, iteration: 556 loss: 0.5221546 acc: 0.9066666666666666\n",
      "New set of weights found, iteration: 557 loss: 0.51671803 acc: 0.9066666666666666\n",
      "New set of weights found, iteration: 558 loss: 0.5140802 acc: 0.91\n",
      "New set of weights found, iteration: 563 loss: 0.5135908 acc: 0.9066666666666666\n",
      "New set of weights found, iteration: 564 loss: 0.5122226 acc: 0.9066666666666666\n",
      "New set of weights found, iteration: 566 loss: 0.5099933 acc: 0.9033333333333333\n",
      "New set of weights found, iteration: 579 loss: 0.5097581 acc: 0.8966666666666666\n",
      "New set of weights found, iteration: 582 loss: 0.50701255 acc: 0.9\n",
      "New set of weights found, iteration: 583 loss: 0.50066286 acc: 0.9033333333333333\n",
      "New set of weights found, iteration: 587 loss: 0.49899456 acc: 0.9066666666666666\n",
      "New set of weights found, iteration: 593 loss: 0.49775502 acc: 0.9\n",
      "New set of weights found, iteration: 599 loss: 0.494586 acc: 0.9066666666666666\n",
      "New set of weights found, iteration: 602 loss: 0.49292332 acc: 0.9066666666666666\n",
      "New set of weights found, iteration: 604 loss: 0.4861057 acc: 0.91\n",
      "New set of weights found, iteration: 606 loss: 0.48362243 acc: 0.9133333333333333\n",
      "New set of weights found, iteration: 608 loss: 0.48203564 acc: 0.9133333333333333\n",
      "New set of weights found, iteration: 613 loss: 0.47979268 acc: 0.91\n",
      "New set of weights found, iteration: 614 loss: 0.47729746 acc: 0.91\n",
      "New set of weights found, iteration: 618 loss: 0.47557804 acc: 0.91\n",
      "New set of weights found, iteration: 620 loss: 0.47293025 acc: 0.9166666666666666\n",
      "New set of weights found, iteration: 624 loss: 0.4692575 acc: 0.91\n",
      "New set of weights found, iteration: 629 loss: 0.46413466 acc: 0.91\n",
      "New set of weights found, iteration: 631 loss: 0.4627825 acc: 0.9166666666666666\n",
      "New set of weights found, iteration: 632 loss: 0.45830435 acc: 0.9166666666666666\n",
      "New set of weights found, iteration: 633 loss: 0.4575111 acc: 0.9166666666666666\n",
      "New set of weights found, iteration: 637 loss: 0.45383495 acc: 0.9133333333333333\n",
      "New set of weights found, iteration: 640 loss: 0.45319977 acc: 0.92\n",
      "New set of weights found, iteration: 646 loss: 0.44844055 acc: 0.9166666666666666\n",
      "New set of weights found, iteration: 653 loss: 0.44765443 acc: 0.9133333333333333\n",
      "New set of weights found, iteration: 655 loss: 0.44742334 acc: 0.9166666666666666\n",
      "New set of weights found, iteration: 657 loss: 0.44329253 acc: 0.9133333333333333\n",
      "New set of weights found, iteration: 663 loss: 0.44058082 acc: 0.9166666666666666\n",
      "New set of weights found, iteration: 668 loss: 0.44037655 acc: 0.9166666666666666\n",
      "New set of weights found, iteration: 669 loss: 0.43741018 acc: 0.9166666666666666\n",
      "New set of weights found, iteration: 670 loss: 0.4365746 acc: 0.9133333333333333\n",
      "New set of weights found, iteration: 674 loss: 0.43582255 acc: 0.91\n",
      "New set of weights found, iteration: 683 loss: 0.4317803 acc: 0.9133333333333333\n",
      "New set of weights found, iteration: 685 loss: 0.43061468 acc: 0.9166666666666666\n",
      "New set of weights found, iteration: 687 loss: 0.4299754 acc: 0.9133333333333333\n",
      "New set of weights found, iteration: 689 loss: 0.42801553 acc: 0.9166666666666666\n",
      "New set of weights found, iteration: 690 loss: 0.42628917 acc: 0.9166666666666666\n",
      "New set of weights found, iteration: 691 loss: 0.42476907 acc: 0.9166666666666666\n",
      "New set of weights found, iteration: 692 loss: 0.42140043 acc: 0.92\n",
      "New set of weights found, iteration: 694 loss: 0.41561335 acc: 0.9133333333333333\n",
      "New set of weights found, iteration: 696 loss: 0.4124144 acc: 0.9166666666666666\n",
      "New set of weights found, iteration: 698 loss: 0.41090158 acc: 0.9133333333333333\n",
      "New set of weights found, iteration: 702 loss: 0.40903035 acc: 0.9166666666666666\n",
      "New set of weights found, iteration: 704 loss: 0.40675795 acc: 0.9166666666666666\n",
      "New set of weights found, iteration: 707 loss: 0.40365648 acc: 0.9166666666666666\n",
      "New set of weights found, iteration: 710 loss: 0.40287337 acc: 0.91\n",
      "New set of weights found, iteration: 711 loss: 0.4025696 acc: 0.9133333333333333\n",
      "New set of weights found, iteration: 712 loss: 0.40019995 acc: 0.9133333333333333\n",
      "New set of weights found, iteration: 715 loss: 0.39999706 acc: 0.9166666666666666\n",
      "New set of weights found, iteration: 719 loss: 0.3990562 acc: 0.91\n",
      "New set of weights found, iteration: 729 loss: 0.396547 acc: 0.9166666666666666\n",
      "New set of weights found, iteration: 730 loss: 0.3936177 acc: 0.92\n",
      "New set of weights found, iteration: 731 loss: 0.39343995 acc: 0.91\n",
      "New set of weights found, iteration: 732 loss: 0.39156714 acc: 0.9066666666666666\n",
      "New set of weights found, iteration: 736 loss: 0.39134496 acc: 0.91\n",
      "New set of weights found, iteration: 742 loss: 0.389588 acc: 0.9066666666666666\n",
      "New set of weights found, iteration: 745 loss: 0.38879085 acc: 0.9166666666666666\n",
      "New set of weights found, iteration: 747 loss: 0.38714945 acc: 0.9066666666666666\n",
      "New set of weights found, iteration: 753 loss: 0.3839418 acc: 0.9066666666666666\n",
      "New set of weights found, iteration: 754 loss: 0.38380352 acc: 0.92\n",
      "New set of weights found, iteration: 757 loss: 0.38126242 acc: 0.9066666666666666\n",
      "New set of weights found, iteration: 759 loss: 0.37868258 acc: 0.91\n",
      "New set of weights found, iteration: 760 loss: 0.37683612 acc: 0.91\n",
      "New set of weights found, iteration: 761 loss: 0.37492758 acc: 0.92\n",
      "New set of weights found, iteration: 762 loss: 0.3747718 acc: 0.9166666666666666\n",
      "New set of weights found, iteration: 763 loss: 0.37361032 acc: 0.9166666666666666\n",
      "New set of weights found, iteration: 764 loss: 0.37065822 acc: 0.91\n",
      "New set of weights found, iteration: 768 loss: 0.36999476 acc: 0.9266666666666666\n",
      "New set of weights found, iteration: 771 loss: 0.36961955 acc: 0.91\n",
      "New set of weights found, iteration: 772 loss: 0.36830744 acc: 0.9166666666666666\n",
      "New set of weights found, iteration: 773 loss: 0.36550528 acc: 0.91\n",
      "New set of weights found, iteration: 777 loss: 0.36386853 acc: 0.9133333333333333\n",
      "New set of weights found, iteration: 778 loss: 0.36255693 acc: 0.91\n",
      "New set of weights found, iteration: 780 loss: 0.36226237 acc: 0.9133333333333333\n",
      "New set of weights found, iteration: 781 loss: 0.36104447 acc: 0.9066666666666666\n",
      "New set of weights found, iteration: 790 loss: 0.357779 acc: 0.9133333333333333\n",
      "New set of weights found, iteration: 793 loss: 0.35542417 acc: 0.91\n",
      "New set of weights found, iteration: 796 loss: 0.35249048 acc: 0.91\n",
      "New set of weights found, iteration: 798 loss: 0.35222462 acc: 0.92\n",
      "New set of weights found, iteration: 804 loss: 0.35194102 acc: 0.9166666666666666\n",
      "New set of weights found, iteration: 810 loss: 0.3493486 acc: 0.9166666666666666\n",
      "New set of weights found, iteration: 811 loss: 0.3461351 acc: 0.9166666666666666\n",
      "New set of weights found, iteration: 814 loss: 0.34464625 acc: 0.9133333333333333\n",
      "New set of weights found, iteration: 816 loss: 0.3433526 acc: 0.9066666666666666\n",
      "New set of weights found, iteration: 817 loss: 0.3417962 acc: 0.91\n",
      "New set of weights found, iteration: 820 loss: 0.3409359 acc: 0.9066666666666666\n",
      "New set of weights found, iteration: 824 loss: 0.33938634 acc: 0.92\n",
      "New set of weights found, iteration: 834 loss: 0.3387552 acc: 0.91\n",
      "New set of weights found, iteration: 842 loss: 0.33757317 acc: 0.93\n",
      "New set of weights found, iteration: 844 loss: 0.33320022 acc: 0.91\n",
      "New set of weights found, iteration: 845 loss: 0.33269235 acc: 0.91\n",
      "New set of weights found, iteration: 847 loss: 0.32947564 acc: 0.9066666666666666\n",
      "New set of weights found, iteration: 852 loss: 0.32928354 acc: 0.9133333333333333\n",
      "New set of weights found, iteration: 857 loss: 0.3291123 acc: 0.92\n",
      "New set of weights found, iteration: 863 loss: 0.32816768 acc: 0.9266666666666666\n",
      "New set of weights found, iteration: 868 loss: 0.32702905 acc: 0.92\n",
      "New set of weights found, iteration: 869 loss: 0.325753 acc: 0.92\n",
      "New set of weights found, iteration: 874 loss: 0.32564554 acc: 0.9233333333333333\n",
      "New set of weights found, iteration: 879 loss: 0.3241013 acc: 0.93\n",
      "New set of weights found, iteration: 884 loss: 0.32143596 acc: 0.9266666666666666\n",
      "New set of weights found, iteration: 887 loss: 0.32026917 acc: 0.9166666666666666\n",
      "New set of weights found, iteration: 888 loss: 0.31789923 acc: 0.9133333333333333\n",
      "New set of weights found, iteration: 889 loss: 0.3174413 acc: 0.91\n",
      "New set of weights found, iteration: 892 loss: 0.3168363 acc: 0.9166666666666666\n",
      "New set of weights found, iteration: 895 loss: 0.3160288 acc: 0.9266666666666666\n",
      "New set of weights found, iteration: 896 loss: 0.3130714 acc: 0.9166666666666666\n",
      "New set of weights found, iteration: 899 loss: 0.31245932 acc: 0.9233333333333333\n",
      "New set of weights found, iteration: 903 loss: 0.3124191 acc: 0.9233333333333333\n",
      "New set of weights found, iteration: 904 loss: 0.31044695 acc: 0.91\n",
      "New set of weights found, iteration: 905 loss: 0.30981484 acc: 0.9266666666666666\n",
      "New set of weights found, iteration: 906 loss: 0.30828944 acc: 0.9133333333333333\n",
      "New set of weights found, iteration: 909 loss: 0.30824617 acc: 0.91\n",
      "New set of weights found, iteration: 913 loss: 0.30768642 acc: 0.91\n",
      "New set of weights found, iteration: 926 loss: 0.30552232 acc: 0.91\n",
      "New set of weights found, iteration: 934 loss: 0.3041775 acc: 0.92\n",
      "New set of weights found, iteration: 941 loss: 0.30393553 acc: 0.9166666666666666\n",
      "New set of weights found, iteration: 942 loss: 0.30226052 acc: 0.9133333333333333\n",
      "New set of weights found, iteration: 944 loss: 0.30217913 acc: 0.9133333333333333\n",
      "New set of weights found, iteration: 950 loss: 0.30147332 acc: 0.9266666666666666\n",
      "New set of weights found, iteration: 951 loss: 0.30087152 acc: 0.9166666666666666\n",
      "New set of weights found, iteration: 952 loss: 0.30039582 acc: 0.9166666666666666\n",
      "New set of weights found, iteration: 955 loss: 0.29984838 acc: 0.9233333333333333\n",
      "New set of weights found, iteration: 958 loss: 0.29922187 acc: 0.9233333333333333\n",
      "New set of weights found, iteration: 961 loss: 0.29861492 acc: 0.9166666666666666\n",
      "New set of weights found, iteration: 962 loss: 0.29588076 acc: 0.9133333333333333\n",
      "New set of weights found, iteration: 964 loss: 0.29558757 acc: 0.9133333333333333\n",
      "New set of weights found, iteration: 974 loss: 0.29455134 acc: 0.91\n",
      "New set of weights found, iteration: 976 loss: 0.29454076 acc: 0.9233333333333333\n",
      "New set of weights found, iteration: 979 loss: 0.29423136 acc: 0.9133333333333333\n",
      "New set of weights found, iteration: 983 loss: 0.2934922 acc: 0.9233333333333333\n",
      "New set of weights found, iteration: 985 loss: 0.29316166 acc: 0.9266666666666666\n",
      "New set of weights found, iteration: 987 loss: 0.29238778 acc: 0.9266666666666666\n",
      "New set of weights found, iteration: 988 loss: 0.28885007 acc: 0.9233333333333333\n",
      "New set of weights found, iteration: 990 loss: 0.28766605 acc: 0.9233333333333333\n",
      "New set of weights found, iteration: 993 loss: 0.2866768 acc: 0.9133333333333333\n",
      "New set of weights found, iteration: 995 loss: 0.28660315 acc: 0.9133333333333333\n"
     ]
    }
   ],
   "source": [
    "import numpy as np\n",
    "import matplotlib.pyplot as plt\n",
    "import nnfs\n",
    "from nnfs.datasets import vertical_data\n",
    "\n",
    "nnfs.init()\n",
    "\n",
    "# Generate dataset\n",
    "X, y = vertical_data(samples=100, classes=3)\n",
    "\n",
    "plt.scatter(X[:, 0], X[:, 1], c=y, s=40, cmap='brg')\n",
    "plt.show()\n",
    "\n",
    "# Define the necessary classes (Assuming these are already defined in your previous code)\n",
    "class Layer_Dense:\n",
    "    def __init__(self, n_inputs, n_neurons):\n",
    "        self.weights = 0.01 * np.random.randn(n_inputs, n_neurons)\n",
    "        self.biases = np.zeros((1, n_neurons))\n",
    "    def forward(self, inputs):\n",
    "        self.output = np.dot(inputs, self.weights) + self.biases\n",
    "\n",
    "class Activation_ReLU:\n",
    "    def forward(self, inputs):\n",
    "        self.output = np.maximum(0, inputs)\n",
    "\n",
    "class Activation_Softmax:\n",
    "    def forward(self, inputs):\n",
    "        exp_values = np.exp(inputs - np.max(inputs, axis=1, keepdims=True))\n",
    "        probabilities = exp_values / np.sum(exp_values, axis=1, keepdims=True)\n",
    "        self.output = probabilities\n",
    "\n",
    "class Loss_CategoricalCrossentropy:\n",
    "    def calculate(self, output, y):\n",
    "        samples = len(output)\n",
    "        y_pred_clipped = np.clip(output, 1e-7, 1 - 1e-7)\n",
    "        if len(y.shape) == 1:\n",
    "            correct_confidences = y_pred_clipped[range(samples), y]\n",
    "        elif len(y.shape) == 2:\n",
    "            correct_confidences = np.sum(y_pred_clipped * y, axis=1)\n",
    "        negative_log_likelihoods = -np.log(correct_confidences)\n",
    "        return np.mean(negative_log_likelihoods)\n",
    "\n",
    "# Create model\n",
    "dense1 = Layer_Dense(2, 3)  # first dense layer, 2 inputs\n",
    "activation1 = Activation_ReLU()\n",
    "dense2 = Layer_Dense(3, 3)  # second dense layer, 3 inputs, 3 outputs\n",
    "activation2 = Activation_Softmax()\n",
    "\n",
    "# Create loss function\n",
    "loss_function = Loss_CategoricalCrossentropy()\n",
    "\n",
    "# Helper variables\n",
    "lowest_loss = 9999999  # some initial value\n",
    "best_dense1_weights = dense1.weights.copy()\n",
    "best_dense1_biases = dense1.biases.copy()\n",
    "best_dense2_weights = dense2.weights.copy()\n",
    "best_dense2_biases = dense2.biases.copy()\n",
    "\n",
    "for iteration in range(1000):\n",
    "    # Generate a new set of weights for iteration\n",
    "    #random weights and biases are generated for both layer\n",
    "    dense1.weights += 0.05 * np.random.randn(2,3)\n",
    "    dense1.biases += 0.05 * np.random.randn(1,3)\n",
    "    dense2.weights += 0.05 * np.random.rand(3,3)\n",
    "    dense2.biases += 0.05 * np.random.rand(1,3)\n",
    "\n",
    "    \n",
    "\n",
    "    # Perform a forward pass of the training data through this layer\n",
    "    dense1.forward(X)\n",
    "    activation1.forward(dense1.output)\n",
    "    dense2.forward(activation1.output)\n",
    "    activation2.forward(dense2.output)\n",
    "\n",
    "    # Perform a forward pass through activation function\n",
    "    # it takes the output of second dense layer here and returns loss\n",
    "    loss = loss_function.calculate(activation2.output, y)\n",
    "\n",
    "    # Calculate accuracy from output of activation2 and targets\n",
    "    # calculate values along first axis\n",
    "    predictions = np.argmax(activation2.output, axis=1)\n",
    "    accuracy = np.mean(predictions == y)\n",
    "\n",
    "    # If loss is smaller - print and save weights and biases aside\n",
    "    if loss < lowest_loss: \n",
    "        print('New set of weights found, iteration:', iteration, \n",
    "              'loss:', loss, 'acc:', accuracy) \n",
    "        best_dense1_weights = dense1.weights.copy() \n",
    "        best_dense1_biases = dense1.biases.copy() \n",
    "        best_dense2_weights = dense2.weights.copy() \n",
    "        best_dense2_biases = dense2.biases.copy() \n",
    "        lowest_loss = loss \n",
    "    # Revert weights and biases \n",
    "    else: \n",
    "        dense1.weights = best_dense1_weights.copy() \n",
    "        dense1.biases = best_dense1_biases.copy() \n",
    "        dense2.weights = best_dense2_weights.copy() \n",
    "        dense2.biases = best_dense2_biases.copy() "
   ]
  },
  {
   "cell_type": "markdown",
   "id": "93786e29-c45b-4081-8b0b-be37b53293c2",
   "metadata": {},
   "source": [
    "## Chapter 7 Derivatives"
   ]
  },
  {
   "cell_type": "code",
   "execution_count": 55,
   "id": "6667f22f-0019-4b81-abac-8bddf3fff748",
   "metadata": {},
   "outputs": [],
   "source": [
    "def f(x):\n",
    "    return 2*x"
   ]
  },
  {
   "cell_type": "code",
   "execution_count": 56,
   "id": "fa15bb94-946c-4b4c-ae16-7618f0dd14c6",
   "metadata": {
    "scrolled": true
   },
   "outputs": [
    {
     "name": "stdout",
     "output_type": "stream",
     "text": [
      "[0 1 2 3 4]\n",
      "[0 2 4 6 8]\n"
     ]
    },
    {
     "data": {
      "image/png": "[encoded data removed]",
      "text/plain": [
       "<Figure size 640x480 with 1 Axes>"
      ]
     },
     "metadata": {},
     "output_type": "display_data"
    }
   ],
   "source": [
    "import matplotlib.pyplot as plt\n",
    "import numpy as np\n",
    "def f(x):\n",
    "    return 2*x\n",
    "x = np.array(range(5))\n",
    "y = f(x)\n",
    "print(x)\n",
    "print(y)\n",
    "\n",
    "plt.plot(x,y)\n",
    "plt.show()"
   ]
  },
  {
   "cell_type": "code",
   "execution_count": 57,
   "id": "0a5ea615-f608-4b8b-b9a1-a79bcd87e192",
   "metadata": {},
   "outputs": [
    {
     "name": "stdout",
     "output_type": "stream",
     "text": [
      "2.0\n"
     ]
    }
   ],
   "source": [
    "print((y[1]-y[0]) / (x[1]-x[0])) "
   ]
  },
  {
   "cell_type": "code",
   "execution_count": 58,
   "id": "06a66abc-cdfb-4b6b-a33b-f86ecab1d356",
   "metadata": {},
   "outputs": [
    {
     "name": "stdout",
     "output_type": "stream",
     "text": [
      "[0 1 2 3 4]\n",
      "[ 0  2  8 18 32]\n"
     ]
    },
    {
     "data": {
      "image/png": "[encoded data removed]",
      "text/plain": [
       "<Figure size 640x480 with 1 Axes>"
      ]
     },
     "metadata": {},
     "output_type": "display_data"
    }
   ],
   "source": [
    "import matplotlib.pyplot as plt\n",
    "import numpy as np\n",
    "def f(x):\n",
    "    return 2*x**2  \n",
    "x = np.array(range(5))\n",
    "y = f(x)\n",
    "print(x)\n",
    "print(y)\n",
    "\n",
    "plt.plot(x,y)\n",
    "plt.show()"
   ]
  },
  {
   "cell_type": "code",
   "execution_count": 59,
   "id": "abddacb8-e53a-409f-a5e5-96db8ec9a007",
   "metadata": {},
   "outputs": [
    {
     "name": "stdout",
     "output_type": "stream",
     "text": [
      "2.0\n"
     ]
    }
   ],
   "source": [
    "#first pairs \n",
    "print((y[1]-y[0]) / (x[1]-x[0])) "
   ]
  },
  {
   "cell_type": "code",
   "execution_count": 60,
   "id": "6205ffbb-4e1b-4033-8677-10455ceec3ba",
   "metadata": {},
   "outputs": [
    {
     "name": "stdout",
     "output_type": "stream",
     "text": [
      "10.0\n"
     ]
    }
   ],
   "source": [
    "print((y[3]-y[2]) / (x[3]-x[2])) "
   ]
  },
  {
   "cell_type": "markdown",
   "id": "520581c6-da77-43c6-a0f7-1c9e6b2c6422",
   "metadata": {},
   "source": [
    "## Calculating the derivative for the non linearity"
   ]
  },
  {
   "cell_type": "code",
   "execution_count": 61,
   "id": "c644be1c-8311-4f59-8bd6-787c2d388742",
   "metadata": {},
   "outputs": [
    {
     "name": "stdout",
     "output_type": "stream",
     "text": [
      "4.0001999999987845\n"
     ]
    }
   ],
   "source": [
    "p2_delta = 0.0001\n",
    "x1 = 1\n",
    "x2 = x1 + p2_delta\n",
    "\n",
    "y1 = f(x1)\n",
    "y2 = f(x2)\n",
    "\n",
    "approx_derivative = (y2-y1)/(x2-x1)\n",
    "print(approx_derivative)"
   ]
  },
  {
   "cell_type": "code",
   "execution_count": 62,
   "id": "8940ef5a-94fa-4c95-8538-cef3920775bd",
   "metadata": {},
   "outputs": [
    {
     "name": "stdout",
     "output_type": "stream",
     "text": [
      "4.0001999999987845\n"
     ]
    }
   ],
   "source": [
    "p2_delta = 0.0001 \n",
    "x1 = 1 \n",
    "x2 = x1 + p2_delta  # add delta \n",
    "y1 = f(x1)  # result at the derivation point \n",
    "y2 = f(x2)  # result at the other, close point \n",
    "approximate_derivative = (y2-y1)/(x2-x1) \n",
    "print(approximate_derivative)"
   ]
  },
  {
   "cell_type": "code",
   "execution_count": 63,
   "id": "42364c77-4d2a-4f85-b42c-f39d17b2e0ab",
   "metadata": {},
   "outputs": [
    {
     "data": {
      "image/png": "[encoded data removed]",
      "text/plain": [
       "<Figure size 640x480 with 1 Axes>"
      ]
     },
     "metadata": {},
     "output_type": "display_data"
    },
    {
     "name": "stdout",
     "output_type": "stream",
     "text": [
      "[0.000e+00 1.000e-03 2.000e-03 ... 4.997e+00 4.998e+00 4.999e+00]\n"
     ]
    }
   ],
   "source": [
    "import matplotlib.pyplot as plt \n",
    "import numpy as np\n",
    "def f(x):\n",
    "    return 2*x**2\n",
    "# np.arange(start, stop, step) to give us smoother line\n",
    "x =  np.arange(0,5,0.001)\n",
    "y = f(x)\n",
    "plt.plot(x,y)\n",
    "plt.show()\n",
    "print(x)"
   ]
  },
  {
   "cell_type": "code",
   "execution_count": 64,
   "id": "90c81314-a538-4cf9-8d10-a8b98309ead2",
   "metadata": {},
   "outputs": [],
   "source": [
    "b = y2 - approximate_derivative*x2"
   ]
  },
  {
   "cell_type": "code",
   "execution_count": 65,
   "id": "bc1e087c-1ba7-45ae-a1ad-2b5fd1d25845",
   "metadata": {},
   "outputs": [
    {
     "name": "stdout",
     "output_type": "stream",
     "text": [
      "(2, 8) (2.0001, 8.000800020000002)\n",
      "Approximate derivative for f(x) where x = 2 is 8.000199999998785\n"
     ]
    },
    {
     "data": {
      "image/png": "[encoded data removed]",
      "text/plain": [
       "<Figure size 640x480 with 1 Axes>"
      ]
     },
     "metadata": {},
     "output_type": "display_data"
    },
    {
     "name": "stdout",
     "output_type": "stream",
     "text": [
      "8.000800020000002\n",
      "2.0001\n"
     ]
    }
   ],
   "source": [
    "import matplotlib.pyplot as plt \n",
    "import numpy as np\n",
    "\n",
    "def f(x):\n",
    "    return 2*x**2 \n",
    "\n",
    "#np.arrange(start,stop,step) to give us smoother line\n",
    "x = np.arange(0,5,0.001)\n",
    "y = f(x)\n",
    "\n",
    "plt.plot(x,y)\n",
    "\n",
    "#the point and the close enough point \n",
    "p2_delta = 0.0001\n",
    "x1 = 2\n",
    "x2 = x1+p2_delta\n",
    "\n",
    "y1 = f(x1)\n",
    "y2 = f(x2)\n",
    "\n",
    "print((x1,y1),(x2,y2))\n",
    "\n",
    "# Derivative approximation and y-intercept for the tangent line \n",
    "approximate_derivative = (y2-y1)/(x2-x1) \n",
    "b = y2 - approximate_derivative*x2\n",
    "\n",
    "# We put the tangent line calculation into a function so we can call \n",
    "# it multiple times for different values of x \n",
    "# approximate_derivative and b are constant for given function \n",
    "# thus calculated once above this function\n",
    "\n",
    "def tangent_line(x): \n",
    "    return approximate_derivative*x + b \n",
    "\n",
    "# plotting the tangent line \n",
    "# +/- 0.9 to draw the tangent line on our graph \n",
    "# then we calculate the y for given x using the tangent line function \n",
    "# Matplotlib will draw a line for us through these points \n",
    "\n",
    "to_plot = [x1-0.9, x1, x1+0.9] \n",
    "plt.plot(to_plot, [tangent_line(i) for i in to_plot]) \n",
    "print('Approximate derivative for f(x)', \n",
    "      f'where x = {x1} is {approximate_derivative}') \n",
    "plt.show() \n",
    "print(y2)\n",
    "print(x2)"
   ]
  },
  {
   "cell_type": "code",
   "execution_count": 66,
   "id": "c2085124-f802-479c-8559-a23effaaafc0",
   "metadata": {},
   "outputs": [
    {
     "name": "stdout",
     "output_type": "stream",
     "text": [
      "[0.000e+00 1.000e-03 2.000e-03 ... 4.997e+00 4.998e+00 4.999e+00]\n"
     ]
    }
   ],
   "source": [
    "print(x)"
   ]
  },
  {
   "cell_type": "code",
   "execution_count": 1,
   "id": "22ed89fe-af32-4166-a41c-b3fd84b4f19d",
   "metadata": {},
   "outputs": [
    {
     "ename": "SyntaxError",
     "evalue": "invalid non-printable character U+200B (441038384.py, line 10)",
     "output_type": "error",
     "traceback": [
      "\u001b[1;36m  Cell \u001b[1;32mIn[1], line 10\u001b[1;36m\u001b[0m\n\u001b[1;33m    def ​ approximate_tangent_line(x​, approximate_derivative​):\u001b[0m\n\u001b[1;37m        ^\u001b[0m\n\u001b[1;31mSyntaxError\u001b[0m\u001b[1;31m:\u001b[0m invalid non-printable character U+200B\n"
     ]
    }
   ],
   "source": [
    "import matplotlib.pyplot as plt \n",
    "import numpy as np \n",
    "def  f(x): \n",
    "return 2*x**2 \n",
    "# np.arange(start, stop, step) to give us a smoother curve \n",
    "x = np.array(np.arange(0,5,0.001)) \n",
    "y = f(x) \n",
    "plt.plot(x, y) \n",
    "colors = ['k','g','r','b','c'] \n",
    "def ​ approximate_tangent_line(x​, approximate_derivative​): \n",
    "return (approximate_derivative*x) + b \n",
    "Chapter 7 - Derivatives - Neural Networks from Scratch in Python \n",
    " \n",
    "19 \n",
    "for i in range(5): \n",
    "    p2_delta = 0.0001 \n",
    "    x1 = i \n",
    "    x2 = x1+p2_delta \n",
    " \n",
    "    y1 = f(x1) \n",
    "    y2 = f(x2) \n",
    " \n",
    "    print((x1, y1), (x2, y2)) \n",
    "    approximate_derivative = (y2-y1)/(x2-x1) \n",
    "    b = y2-(approximate_derivative*x2) \n",
    " \n",
    "    to_plot = [x1-0.9, x1, x1+0.9] \n",
    " \n",
    "    plt.scatter(x1, y1, c=colors[i]) \n",
    "    plt.plot([point for point in to_plot], \n",
    "             [approximate_tangent_line(point, approximate_derivative) \n",
    "                 for point in to_plot], \n",
    "             c=colors[i]) \n",
    " \n",
    "    print('Approximate derivative for f(x)', \n",
    "          f'where x = {x1} is {approximate_derivative}') \n",
    " \n",
    "plt.show()"
   ]
  },
  {
   "cell_type": "code",
   "execution_count": null,
   "id": "eea81636-0516-4c93-8215-6cc169709cf8",
   "metadata": {},
   "outputs": [],
   "source": []
  }
 ],
 "metadata": {
  "kernelspec": {
   "display_name": "Python 3 (ipykernel)",
   "language": "python",
   "name": "python3"
  },
  "language_info": {
   "codemirror_mode": {
    "name": "ipython",
    "version": 3
   },
   "file_extension": ".py",
   "mimetype": "text/x-python",
   "name": "python",
   "nbconvert_exporter": "python",
   "pygments_lexer": "ipython3",
   "version": "3.12.3"
  }
 },
 "nbformat": 4,
 "nbformat_minor": 5
}
